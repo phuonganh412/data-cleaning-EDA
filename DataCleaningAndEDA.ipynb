{
 "cells": [
  {
   "cell_type": "markdown",
   "id": "c4d98653",
   "metadata": {},
   "source": [
    "# Data Cleaning and Exploratory Data Analysis (EDA)\n",
    "## Dataset Description:\n",
    "This Jupyter notebook focuses on data cleaning and exploratory data analysis (EDA) of three data files: \"data1.csv\", \"data2.csv\", and \"data3.csv\". These files constitute the dataset created from a higher education institution related to students enrolled in various undergraduate degrees.\n",
    "* \"data1.csv\" and \"data2.csv\": These files contain the same set of students but have distinct sets of attributes describing each student. Each student is identified by a unique ID.\n",
    "* \"data3.csv\": This file contains a different set of students, with each student described by all attributes from both \"data1.csv\" and \"data2.csv\".\n",
    "## Objectives:\n",
    "\n",
    "The objectives of this notebook are to:\n",
    "* Perform data acquisition, preparation, and exploration steps based on the three data sources.\n",
    "* Conduct data cleaning to handle missing values, outliers, and inconsistencies.\n",
    "* Explore the datasets to understand the characteristics, distributions, and relationships between variables.\n",
    "* Derive insights and identify patterns that may inform further analysis or modeling tasks.\n"
   ]
  },
  {
   "cell_type": "markdown",
   "id": "379b8fe6",
   "metadata": {},
   "source": [
    "## Step 1 - Data Acquisition & Preparation"
   ]
  },
  {
   "cell_type": "markdown",
   "id": "0ce03291",
   "metadata": {},
   "source": [
    "### Load the data"
   ]
  },
  {
   "cell_type": "code",
   "execution_count": 1,
   "id": "7e56b120",
   "metadata": {},
   "outputs": [],
   "source": [
    "import pandas as pd\n",
    "import matplotlib.pyplot as plt"
   ]
  },
  {
   "cell_type": "code",
   "execution_count": 2,
   "id": "7f1c594c",
   "metadata": {},
   "outputs": [],
   "source": [
    "df1 = pd.read_csv('data1.csv', delimiter=\";\")\n",
    "df2 = pd.read_csv('data2.csv', delimiter=\";\")\n",
    "df3 = pd.read_csv('data3.csv', delimiter=\";\")"
   ]
  },
  {
   "cell_type": "code",
   "execution_count": 3,
   "id": "92abdbac",
   "metadata": {},
   "outputs": [
    {
     "name": "stdout",
     "output_type": "stream",
     "text": [
      "False\n",
      "False\n",
      "False\n"
     ]
    }
   ],
   "source": [
    "raw_data1 = pd.read_csv('data1.csv')\n",
    "raw_data2 = pd.read_csv('data2.csv')\n",
    "raw_data3 = pd.read_csv('data3.csv')\n",
    "\n",
    "print(df1.equals(raw_data1))\n",
    "print(df2.equals(raw_data2))\n",
    "print(df3.equals(raw_data3))"
   ]
  },
  {
   "cell_type": "code",
   "execution_count": 4,
   "id": "0fbb23d8",
   "metadata": {},
   "outputs": [
    {
     "data": {
      "text/html": [
       "<div>\n",
       "<style scoped>\n",
       "    .dataframe tbody tr th:only-of-type {\n",
       "        vertical-align: middle;\n",
       "    }\n",
       "\n",
       "    .dataframe tbody tr th {\n",
       "        vertical-align: top;\n",
       "    }\n",
       "\n",
       "    .dataframe thead th {\n",
       "        text-align: right;\n",
       "    }\n",
       "</style>\n",
       "<table border=\"1\" class=\"dataframe\">\n",
       "  <thead>\n",
       "    <tr style=\"text-align: right;\">\n",
       "      <th></th>\n",
       "      <th>ID</th>\n",
       "      <th>Marital status</th>\n",
       "      <th>Application mode</th>\n",
       "      <th>Application order</th>\n",
       "      <th>Course</th>\n",
       "      <th>Daytime/evening attendance</th>\n",
       "      <th>Previous qualification</th>\n",
       "      <th>Previous qualification (grade)</th>\n",
       "      <th>Nationality</th>\n",
       "      <th>Mother's qualification</th>\n",
       "      <th>...</th>\n",
       "      <th>Father's occupation</th>\n",
       "      <th>Admission grade</th>\n",
       "      <th>Displaced</th>\n",
       "      <th>Educational special needs</th>\n",
       "      <th>Debtor</th>\n",
       "      <th>Tuition fees up to date</th>\n",
       "      <th>Gender</th>\n",
       "      <th>Scholarship holder</th>\n",
       "      <th>Age at enrollment</th>\n",
       "      <th>International</th>\n",
       "    </tr>\n",
       "  </thead>\n",
       "  <tbody>\n",
       "    <tr>\n",
       "      <th>0</th>\n",
       "      <td>2541</td>\n",
       "      <td>1</td>\n",
       "      <td>7</td>\n",
       "      <td>1</td>\n",
       "      <td>9147</td>\n",
       "      <td>1</td>\n",
       "      <td>3</td>\n",
       "      <td>120.0</td>\n",
       "      <td>1</td>\n",
       "      <td>1</td>\n",
       "      <td>...</td>\n",
       "      <td>7</td>\n",
       "      <td>120.0</td>\n",
       "      <td>0</td>\n",
       "      <td>0</td>\n",
       "      <td>0</td>\n",
       "      <td>1</td>\n",
       "      <td>0</td>\n",
       "      <td>0</td>\n",
       "      <td>333</td>\n",
       "      <td>0</td>\n",
       "    </tr>\n",
       "    <tr>\n",
       "      <th>1</th>\n",
       "      <td>2554</td>\n",
       "      <td>1</td>\n",
       "      <td>17</td>\n",
       "      <td>1</td>\n",
       "      <td>9991</td>\n",
       "      <td>0</td>\n",
       "      <td>1</td>\n",
       "      <td>160.0</td>\n",
       "      <td>1</td>\n",
       "      <td>34</td>\n",
       "      <td>...</td>\n",
       "      <td>0</td>\n",
       "      <td>161.8</td>\n",
       "      <td>1</td>\n",
       "      <td>0</td>\n",
       "      <td>1</td>\n",
       "      <td>1</td>\n",
       "      <td>1</td>\n",
       "      <td>0</td>\n",
       "      <td>333</td>\n",
       "      <td>0</td>\n",
       "    </tr>\n",
       "    <tr>\n",
       "      <th>2</th>\n",
       "      <td>2790</td>\n",
       "      <td>1</td>\n",
       "      <td>39</td>\n",
       "      <td>1</td>\n",
       "      <td>171</td>\n",
       "      <td>1</td>\n",
       "      <td>1</td>\n",
       "      <td>133.1</td>\n",
       "      <td>1</td>\n",
       "      <td>37</td>\n",
       "      <td>...</td>\n",
       "      <td>7</td>\n",
       "      <td>100.0</td>\n",
       "      <td>0</td>\n",
       "      <td>0</td>\n",
       "      <td>1</td>\n",
       "      <td>1</td>\n",
       "      <td>1</td>\n",
       "      <td>1</td>\n",
       "      <td>333</td>\n",
       "      <td>0</td>\n",
       "    </tr>\n",
       "    <tr>\n",
       "      <th>3</th>\n",
       "      <td>2799</td>\n",
       "      <td>1</td>\n",
       "      <td>42</td>\n",
       "      <td>1</td>\n",
       "      <td>9500</td>\n",
       "      <td>1</td>\n",
       "      <td>1</td>\n",
       "      <td>150.0</td>\n",
       "      <td>1</td>\n",
       "      <td>19</td>\n",
       "      <td>...</td>\n",
       "      <td>3</td>\n",
       "      <td>110.0</td>\n",
       "      <td>1</td>\n",
       "      <td>0</td>\n",
       "      <td>0</td>\n",
       "      <td>1</td>\n",
       "      <td>1</td>\n",
       "      <td>1</td>\n",
       "      <td>333</td>\n",
       "      <td>0</td>\n",
       "    </tr>\n",
       "    <tr>\n",
       "      <th>4</th>\n",
       "      <td>2883</td>\n",
       "      <td>2</td>\n",
       "      <td>39</td>\n",
       "      <td>1</td>\n",
       "      <td>9991</td>\n",
       "      <td>0</td>\n",
       "      <td>1</td>\n",
       "      <td>133.1</td>\n",
       "      <td>1</td>\n",
       "      <td>37</td>\n",
       "      <td>...</td>\n",
       "      <td>9</td>\n",
       "      <td>113.4</td>\n",
       "      <td>0</td>\n",
       "      <td>0</td>\n",
       "      <td>0</td>\n",
       "      <td>1</td>\n",
       "      <td>0</td>\n",
       "      <td>0</td>\n",
       "      <td>333</td>\n",
       "      <td>0</td>\n",
       "    </tr>\n",
       "  </tbody>\n",
       "</table>\n",
       "<p>5 rows × 22 columns</p>\n",
       "</div>"
      ],
      "text/plain": [
       "     ID  Marital status  Application mode  Application order  Course  \\\n",
       "0  2541               1                 7                  1    9147   \n",
       "1  2554               1                17                  1    9991   \n",
       "2  2790               1                39                  1     171   \n",
       "3  2799               1                42                  1    9500   \n",
       "4  2883               2                39                  1    9991   \n",
       "\n",
       "  Daytime/evening attendance  Previous qualification  \\\n",
       "0                          1                       3   \n",
       "1                          0                       1   \n",
       "2                          1                       1   \n",
       "3                          1                       1   \n",
       "4                          0                       1   \n",
       "\n",
       "   Previous qualification (grade)  Nationality  Mother's qualification  ...  \\\n",
       "0                           120.0            1                       1  ...   \n",
       "1                           160.0            1                      34  ...   \n",
       "2                           133.1            1                      37  ...   \n",
       "3                           150.0            1                      19  ...   \n",
       "4                           133.1            1                      37  ...   \n",
       "\n",
       "  Father's occupation  Admission grade  Displaced  Educational special needs  \\\n",
       "0                   7            120.0          0                          0   \n",
       "1                   0            161.8          1                          0   \n",
       "2                   7            100.0          0                          0   \n",
       "3                   3            110.0          1                          0   \n",
       "4                   9            113.4          0                          0   \n",
       "\n",
       "   Debtor  Tuition fees up to date  Gender  Scholarship holder  \\\n",
       "0       0                        1       0                   0   \n",
       "1       1                        1       1                   0   \n",
       "2       1                        1       1                   1   \n",
       "3       0                        1       1                   1   \n",
       "4       0                        1       0                   0   \n",
       "\n",
       "   Age at enrollment  International  \n",
       "0                333              0  \n",
       "1                333              0  \n",
       "2                333              0  \n",
       "3                333              0  \n",
       "4                333              0  \n",
       "\n",
       "[5 rows x 22 columns]"
      ]
     },
     "execution_count": 4,
     "metadata": {},
     "output_type": "execute_result"
    }
   ],
   "source": [
    "df1.head()"
   ]
  },
  {
   "cell_type": "code",
   "execution_count": 5,
   "id": "2d5efa4f",
   "metadata": {},
   "outputs": [
    {
     "data": {
      "text/html": [
       "<div>\n",
       "<style scoped>\n",
       "    .dataframe tbody tr th:only-of-type {\n",
       "        vertical-align: middle;\n",
       "    }\n",
       "\n",
       "    .dataframe tbody tr th {\n",
       "        vertical-align: top;\n",
       "    }\n",
       "\n",
       "    .dataframe thead th {\n",
       "        text-align: right;\n",
       "    }\n",
       "</style>\n",
       "<table border=\"1\" class=\"dataframe\">\n",
       "  <thead>\n",
       "    <tr style=\"text-align: right;\">\n",
       "      <th></th>\n",
       "      <th>ID</th>\n",
       "      <th>Curricular units 1st sem (credited)</th>\n",
       "      <th>Curricular units 1st sem (enrolled)</th>\n",
       "      <th>Curricular units 1st sem (evaluations)</th>\n",
       "      <th>Curricular units 1st sem (approved)</th>\n",
       "      <th>Curricular units 1st sem (grade)</th>\n",
       "      <th>Curricular units 1st sem (without evaluations)</th>\n",
       "      <th>Curricular units 2nd sem (credited)</th>\n",
       "      <th>Curricular units 2nd sem (enrolled)</th>\n",
       "      <th>Curricular units 2nd sem (evaluations)</th>\n",
       "      <th>Curricular units 2nd sem (approved)</th>\n",
       "      <th>Curricular units 2nd sem (grade)</th>\n",
       "      <th>Curricular units 2nd sem (without evaluations)</th>\n",
       "      <th>Unemployment rate</th>\n",
       "      <th>Inflation rate</th>\n",
       "      <th>GDP</th>\n",
       "      <th>Target</th>\n",
       "    </tr>\n",
       "  </thead>\n",
       "  <tbody>\n",
       "    <tr>\n",
       "      <th>0</th>\n",
       "      <td>1</td>\n",
       "      <td>0</td>\n",
       "      <td>0</td>\n",
       "      <td>0</td>\n",
       "      <td>0</td>\n",
       "      <td>0.0</td>\n",
       "      <td>0</td>\n",
       "      <td>0</td>\n",
       "      <td>0</td>\n",
       "      <td>0</td>\n",
       "      <td>0</td>\n",
       "      <td>0.0</td>\n",
       "      <td>0</td>\n",
       "      <td>10.8</td>\n",
       "      <td>1.4</td>\n",
       "      <td>1.74</td>\n",
       "      <td>Dropout</td>\n",
       "    </tr>\n",
       "    <tr>\n",
       "      <th>1</th>\n",
       "      <td>3</td>\n",
       "      <td>0</td>\n",
       "      <td>6</td>\n",
       "      <td>0</td>\n",
       "      <td>0</td>\n",
       "      <td>0.0</td>\n",
       "      <td>0</td>\n",
       "      <td>0</td>\n",
       "      <td>6</td>\n",
       "      <td>0</td>\n",
       "      <td>0</td>\n",
       "      <td>0.0</td>\n",
       "      <td>0</td>\n",
       "      <td>10.8</td>\n",
       "      <td>1.4</td>\n",
       "      <td>1.74</td>\n",
       "      <td>Dropout</td>\n",
       "    </tr>\n",
       "    <tr>\n",
       "      <th>2</th>\n",
       "      <td>8</td>\n",
       "      <td>0</td>\n",
       "      <td>5</td>\n",
       "      <td>5</td>\n",
       "      <td>0</td>\n",
       "      <td>0.0</td>\n",
       "      <td>0</td>\n",
       "      <td>0</td>\n",
       "      <td>5</td>\n",
       "      <td>5</td>\n",
       "      <td>0</td>\n",
       "      <td>0.0</td>\n",
       "      <td>0</td>\n",
       "      <td>15.5</td>\n",
       "      <td>2.8</td>\n",
       "      <td>-4.06</td>\n",
       "      <td>Dropout</td>\n",
       "    </tr>\n",
       "    <tr>\n",
       "      <th>3</th>\n",
       "      <td>10</td>\n",
       "      <td>0</td>\n",
       "      <td>6</td>\n",
       "      <td>9</td>\n",
       "      <td>5</td>\n",
       "      <td>11.4</td>\n",
       "      <td>0</td>\n",
       "      <td>0</td>\n",
       "      <td>6</td>\n",
       "      <td>14</td>\n",
       "      <td>2</td>\n",
       "      <td>13.5</td>\n",
       "      <td>0</td>\n",
       "      <td>8.9</td>\n",
       "      <td>1.4</td>\n",
       "      <td>3.51</td>\n",
       "      <td>Dropout</td>\n",
       "    </tr>\n",
       "    <tr>\n",
       "      <th>4</th>\n",
       "      <td>13</td>\n",
       "      <td>0</td>\n",
       "      <td>6</td>\n",
       "      <td>6</td>\n",
       "      <td>0</td>\n",
       "      <td>0.0</td>\n",
       "      <td>0</td>\n",
       "      <td>0</td>\n",
       "      <td>6</td>\n",
       "      <td>0</td>\n",
       "      <td>0</td>\n",
       "      <td>0.0</td>\n",
       "      <td>0</td>\n",
       "      <td>12.7</td>\n",
       "      <td>3.7</td>\n",
       "      <td>-1.70</td>\n",
       "      <td>Dropout</td>\n",
       "    </tr>\n",
       "  </tbody>\n",
       "</table>\n",
       "</div>"
      ],
      "text/plain": [
       "   ID  Curricular units 1st sem (credited)  \\\n",
       "0   1                                    0   \n",
       "1   3                                    0   \n",
       "2   8                                    0   \n",
       "3  10                                    0   \n",
       "4  13                                    0   \n",
       "\n",
       "   Curricular units 1st sem (enrolled)  \\\n",
       "0                                    0   \n",
       "1                                    6   \n",
       "2                                    5   \n",
       "3                                    6   \n",
       "4                                    6   \n",
       "\n",
       "   Curricular units 1st sem (evaluations)  \\\n",
       "0                                       0   \n",
       "1                                       0   \n",
       "2                                       5   \n",
       "3                                       9   \n",
       "4                                       6   \n",
       "\n",
       "   Curricular units 1st sem (approved)  Curricular units 1st sem (grade)  \\\n",
       "0                                    0                               0.0   \n",
       "1                                    0                               0.0   \n",
       "2                                    0                               0.0   \n",
       "3                                    5                              11.4   \n",
       "4                                    0                               0.0   \n",
       "\n",
       "   Curricular units 1st sem (without evaluations)  \\\n",
       "0                                               0   \n",
       "1                                               0   \n",
       "2                                               0   \n",
       "3                                               0   \n",
       "4                                               0   \n",
       "\n",
       "   Curricular units 2nd sem (credited)  Curricular units 2nd sem (enrolled)  \\\n",
       "0                                    0                                    0   \n",
       "1                                    0                                    6   \n",
       "2                                    0                                    5   \n",
       "3                                    0                                    6   \n",
       "4                                    0                                    6   \n",
       "\n",
       "   Curricular units 2nd sem (evaluations)  \\\n",
       "0                                       0   \n",
       "1                                       0   \n",
       "2                                       5   \n",
       "3                                      14   \n",
       "4                                       0   \n",
       "\n",
       "   Curricular units 2nd sem (approved)  Curricular units 2nd sem (grade)  \\\n",
       "0                                    0                               0.0   \n",
       "1                                    0                               0.0   \n",
       "2                                    0                               0.0   \n",
       "3                                    2                              13.5   \n",
       "4                                    0                               0.0   \n",
       "\n",
       "   Curricular units 2nd sem (without evaluations)  Unemployment rate  \\\n",
       "0                                               0               10.8   \n",
       "1                                               0               10.8   \n",
       "2                                               0               15.5   \n",
       "3                                               0                8.9   \n",
       "4                                               0               12.7   \n",
       "\n",
       "   Inflation rate   GDP   Target  \n",
       "0             1.4  1.74  Dropout  \n",
       "1             1.4  1.74  Dropout  \n",
       "2             2.8 -4.06  Dropout  \n",
       "3             1.4  3.51  Dropout  \n",
       "4             3.7 -1.70  Dropout  "
      ]
     },
     "execution_count": 5,
     "metadata": {},
     "output_type": "execute_result"
    }
   ],
   "source": [
    "df2.head()"
   ]
  },
  {
   "cell_type": "code",
   "execution_count": 6,
   "id": "f3e23569",
   "metadata": {},
   "outputs": [
    {
     "data": {
      "text/plain": [
       "array([ 1, 19, 37, 38,  4,  3, 34,  2, 39, 12,  5, 11,  9, 36, 14, 43, 22,\n",
       "       42, 41, 10,  6, 40, 30])"
      ]
     },
     "execution_count": 6,
     "metadata": {},
     "output_type": "execute_result"
    }
   ],
   "source": [
    "df3[\"Father's qualification\"].unique()"
   ]
  },
  {
   "cell_type": "code",
   "execution_count": 7,
   "id": "d4e9953a",
   "metadata": {},
   "outputs": [
    {
     "data": {
      "text/html": [
       "<div>\n",
       "<style scoped>\n",
       "    .dataframe tbody tr th:only-of-type {\n",
       "        vertical-align: middle;\n",
       "    }\n",
       "\n",
       "    .dataframe tbody tr th {\n",
       "        vertical-align: top;\n",
       "    }\n",
       "\n",
       "    .dataframe thead th {\n",
       "        text-align: right;\n",
       "    }\n",
       "</style>\n",
       "<table border=\"1\" class=\"dataframe\">\n",
       "  <thead>\n",
       "    <tr style=\"text-align: right;\">\n",
       "      <th></th>\n",
       "      <th>ID</th>\n",
       "      <th>Marital status</th>\n",
       "      <th>Application mode</th>\n",
       "      <th>Application order</th>\n",
       "      <th>Course</th>\n",
       "      <th>Daytime/evening attendance</th>\n",
       "      <th>Previous qualification</th>\n",
       "      <th>Previous qualification (grade)</th>\n",
       "      <th>Nationality</th>\n",
       "      <th>Mother's qualification</th>\n",
       "      <th>...</th>\n",
       "      <th>Curricular units 2nd sem (credited)</th>\n",
       "      <th>Curricular units 2nd sem (enrolled)</th>\n",
       "      <th>Curricular units 2nd sem (evaluations)</th>\n",
       "      <th>Curricular units 2nd sem (approved)</th>\n",
       "      <th>Curricular units 2nd sem (grade)</th>\n",
       "      <th>Curricular units 2nd sem (without evaluations)</th>\n",
       "      <th>Unemployment rate</th>\n",
       "      <th>Inflation rate</th>\n",
       "      <th>GDP</th>\n",
       "      <th>Target</th>\n",
       "    </tr>\n",
       "  </thead>\n",
       "  <tbody>\n",
       "    <tr>\n",
       "      <th>0</th>\n",
       "      <td>239</td>\n",
       "      <td>1</td>\n",
       "      <td>1</td>\n",
       "      <td>1</td>\n",
       "      <td>9130</td>\n",
       "      <td>1</td>\n",
       "      <td>1</td>\n",
       "      <td>126.0</td>\n",
       "      <td>1</td>\n",
       "      <td>19</td>\n",
       "      <td>...</td>\n",
       "      <td>0</td>\n",
       "      <td>5</td>\n",
       "      <td>10</td>\n",
       "      <td>4</td>\n",
       "      <td>14.250000</td>\n",
       "      <td>0</td>\n",
       "      <td>9.4</td>\n",
       "      <td>-0.8</td>\n",
       "      <td>-3.12</td>\n",
       "      <td>Dropout</td>\n",
       "    </tr>\n",
       "    <tr>\n",
       "      <th>1</th>\n",
       "      <td>240</td>\n",
       "      <td>1</td>\n",
       "      <td>39</td>\n",
       "      <td>1</td>\n",
       "      <td>9085</td>\n",
       "      <td>1</td>\n",
       "      <td>19</td>\n",
       "      <td>133.1</td>\n",
       "      <td>1</td>\n",
       "      <td>19</td>\n",
       "      <td>...</td>\n",
       "      <td>1</td>\n",
       "      <td>6</td>\n",
       "      <td>14</td>\n",
       "      <td>3</td>\n",
       "      <td>10.333333</td>\n",
       "      <td>0</td>\n",
       "      <td>16.2</td>\n",
       "      <td>0.3</td>\n",
       "      <td>-0.92</td>\n",
       "      <td>Dropout</td>\n",
       "    </tr>\n",
       "    <tr>\n",
       "      <th>2</th>\n",
       "      <td>244</td>\n",
       "      <td>1</td>\n",
       "      <td>39</td>\n",
       "      <td>1</td>\n",
       "      <td>9147</td>\n",
       "      <td>1</td>\n",
       "      <td>1</td>\n",
       "      <td>120.0</td>\n",
       "      <td>1</td>\n",
       "      <td>37</td>\n",
       "      <td>...</td>\n",
       "      <td>0</td>\n",
       "      <td>5</td>\n",
       "      <td>9</td>\n",
       "      <td>0</td>\n",
       "      <td>0.000000</td>\n",
       "      <td>0</td>\n",
       "      <td>10.8</td>\n",
       "      <td>1.4</td>\n",
       "      <td>1.74</td>\n",
       "      <td>Dropout</td>\n",
       "    </tr>\n",
       "    <tr>\n",
       "      <th>3</th>\n",
       "      <td>248</td>\n",
       "      <td>1</td>\n",
       "      <td>44</td>\n",
       "      <td>1</td>\n",
       "      <td>9003</td>\n",
       "      <td>1</td>\n",
       "      <td>39</td>\n",
       "      <td>130.0</td>\n",
       "      <td>1</td>\n",
       "      <td>37</td>\n",
       "      <td>...</td>\n",
       "      <td>0</td>\n",
       "      <td>6</td>\n",
       "      <td>8</td>\n",
       "      <td>3</td>\n",
       "      <td>11.333333</td>\n",
       "      <td>0</td>\n",
       "      <td>13.9</td>\n",
       "      <td>-0.3</td>\n",
       "      <td>0.79</td>\n",
       "      <td>Dropout</td>\n",
       "    </tr>\n",
       "    <tr>\n",
       "      <th>4</th>\n",
       "      <td>256</td>\n",
       "      <td>2</td>\n",
       "      <td>39</td>\n",
       "      <td>1</td>\n",
       "      <td>9556</td>\n",
       "      <td>1</td>\n",
       "      <td>19</td>\n",
       "      <td>133.1</td>\n",
       "      <td>1</td>\n",
       "      <td>38</td>\n",
       "      <td>...</td>\n",
       "      <td>0</td>\n",
       "      <td>7</td>\n",
       "      <td>12</td>\n",
       "      <td>0</td>\n",
       "      <td>0.000000</td>\n",
       "      <td>0</td>\n",
       "      <td>8.9</td>\n",
       "      <td>1.4</td>\n",
       "      <td>3.51</td>\n",
       "      <td>Dropout</td>\n",
       "    </tr>\n",
       "  </tbody>\n",
       "</table>\n",
       "<p>5 rows × 38 columns</p>\n",
       "</div>"
      ],
      "text/plain": [
       "    ID  Marital status  Application mode  Application order  Course  \\\n",
       "0  239               1                 1                  1    9130   \n",
       "1  240               1                39                  1    9085   \n",
       "2  244               1                39                  1    9147   \n",
       "3  248               1                44                  1    9003   \n",
       "4  256               2                39                  1    9556   \n",
       "\n",
       "   Daytime/evening attendance  Previous qualification  \\\n",
       "0                           1                       1   \n",
       "1                           1                      19   \n",
       "2                           1                       1   \n",
       "3                           1                      39   \n",
       "4                           1                      19   \n",
       "\n",
       "   Previous qualification (grade)  Nationality  Mother's qualification  ...  \\\n",
       "0                           126.0            1                      19  ...   \n",
       "1                           133.1            1                      19  ...   \n",
       "2                           120.0            1                      37  ...   \n",
       "3                           130.0            1                      37  ...   \n",
       "4                           133.1            1                      38  ...   \n",
       "\n",
       "   Curricular units 2nd sem (credited)  Curricular units 2nd sem (enrolled)  \\\n",
       "0                                    0                                    5   \n",
       "1                                    1                                    6   \n",
       "2                                    0                                    5   \n",
       "3                                    0                                    6   \n",
       "4                                    0                                    7   \n",
       "\n",
       "   Curricular units 2nd sem (evaluations)  \\\n",
       "0                                      10   \n",
       "1                                      14   \n",
       "2                                       9   \n",
       "3                                       8   \n",
       "4                                      12   \n",
       "\n",
       "   Curricular units 2nd sem (approved)  Curricular units 2nd sem (grade)  \\\n",
       "0                                    4                         14.250000   \n",
       "1                                    3                         10.333333   \n",
       "2                                    0                          0.000000   \n",
       "3                                    3                         11.333333   \n",
       "4                                    0                          0.000000   \n",
       "\n",
       "   Curricular units 2nd sem (without evaluations)  Unemployment rate  \\\n",
       "0                                               0                9.4   \n",
       "1                                               0               16.2   \n",
       "2                                               0               10.8   \n",
       "3                                               0               13.9   \n",
       "4                                               0                8.9   \n",
       "\n",
       "   Inflation rate   GDP   Target  \n",
       "0            -0.8 -3.12  Dropout  \n",
       "1             0.3 -0.92  Dropout  \n",
       "2             1.4  1.74  Dropout  \n",
       "3            -0.3  0.79  Dropout  \n",
       "4             1.4  3.51  Dropout  \n",
       "\n",
       "[5 rows x 38 columns]"
      ]
     },
     "execution_count": 7,
     "metadata": {},
     "output_type": "execute_result"
    }
   ],
   "source": [
    "df3.head()"
   ]
  },
  {
   "cell_type": "code",
   "execution_count": 8,
   "id": "11f6eb57",
   "metadata": {
    "scrolled": true
   },
   "outputs": [
    {
     "name": "stdout",
     "output_type": "stream",
     "text": [
      "<class 'pandas.core.frame.DataFrame'>\n",
      "RangeIndex: 3424 entries, 0 to 3423\n",
      "Data columns (total 22 columns):\n",
      " #   Column                          Non-Null Count  Dtype  \n",
      "---  ------                          --------------  -----  \n",
      " 0   ID                              3424 non-null   int64  \n",
      " 1   Marital status                  3424 non-null   int64  \n",
      " 2   Application mode                3424 non-null   int64  \n",
      " 3   Application order               3424 non-null   int64  \n",
      " 4   Course                          3424 non-null   int64  \n",
      " 5   Daytime/evening attendance      3424 non-null   object \n",
      " 6   Previous qualification          3424 non-null   int64  \n",
      " 7   Previous qualification (grade)  3424 non-null   float64\n",
      " 8   Nationality                     3424 non-null   int64  \n",
      " 9   Mother's qualification          3424 non-null   int64  \n",
      " 10  Father's qualification          3424 non-null   object \n",
      " 11  Mother's occupation             3424 non-null   int64  \n",
      " 12  Father's occupation             3424 non-null   int64  \n",
      " 13  Admission grade                 3424 non-null   float64\n",
      " 14  Displaced                       3424 non-null   int64  \n",
      " 15  Educational special needs       3424 non-null   int64  \n",
      " 16  Debtor                          3424 non-null   int64  \n",
      " 17  Tuition fees up to date         3424 non-null   int64  \n",
      " 18  Gender                          3424 non-null   int64  \n",
      " 19  Scholarship holder              3424 non-null   int64  \n",
      " 20  Age at enrollment               3424 non-null   int64  \n",
      " 21  International                   3424 non-null   int64  \n",
      "dtypes: float64(2), int64(18), object(2)\n",
      "memory usage: 588.6+ KB\n"
     ]
    }
   ],
   "source": [
    "df1.info()"
   ]
  },
  {
   "cell_type": "code",
   "execution_count": 9,
   "id": "7cfba58c",
   "metadata": {},
   "outputs": [
    {
     "name": "stdout",
     "output_type": "stream",
     "text": [
      "<class 'pandas.core.frame.DataFrame'>\n",
      "RangeIndex: 3424 entries, 0 to 3423\n",
      "Data columns (total 17 columns):\n",
      " #   Column                                          Non-Null Count  Dtype  \n",
      "---  ------                                          --------------  -----  \n",
      " 0   ID                                              3424 non-null   int64  \n",
      " 1   Curricular units 1st sem (credited)             3424 non-null   int64  \n",
      " 2   Curricular units 1st sem (enrolled)             3424 non-null   int64  \n",
      " 3   Curricular units 1st sem (evaluations)          3424 non-null   int64  \n",
      " 4   Curricular units 1st sem (approved)             3424 non-null   int64  \n",
      " 5   Curricular units 1st sem (grade)                3424 non-null   float64\n",
      " 6   Curricular units 1st sem (without evaluations)  3424 non-null   int64  \n",
      " 7   Curricular units 2nd sem (credited)             3424 non-null   int64  \n",
      " 8   Curricular units 2nd sem (enrolled)             3424 non-null   int64  \n",
      " 9   Curricular units 2nd sem (evaluations)          3424 non-null   int64  \n",
      " 10  Curricular units 2nd sem (approved)             3424 non-null   int64  \n",
      " 11  Curricular units 2nd sem (grade)                3424 non-null   float64\n",
      " 12  Curricular units 2nd sem (without evaluations)  3424 non-null   int64  \n",
      " 13  Unemployment rate                               3424 non-null   float64\n",
      " 14  Inflation rate                                  3424 non-null   float64\n",
      " 15  GDP                                             3424 non-null   float64\n",
      " 16  Target                                          3424 non-null   object \n",
      "dtypes: float64(5), int64(11), object(1)\n",
      "memory usage: 454.9+ KB\n"
     ]
    }
   ],
   "source": [
    "df2.info()"
   ]
  },
  {
   "cell_type": "code",
   "execution_count": 10,
   "id": "a7689c50",
   "metadata": {},
   "outputs": [
    {
     "name": "stdout",
     "output_type": "stream",
     "text": [
      "<class 'pandas.core.frame.DataFrame'>\n",
      "RangeIndex: 1000 entries, 0 to 999\n",
      "Data columns (total 38 columns):\n",
      " #   Column                                          Non-Null Count  Dtype  \n",
      "---  ------                                          --------------  -----  \n",
      " 0   ID                                              1000 non-null   int64  \n",
      " 1   Marital status                                  1000 non-null   int64  \n",
      " 2   Application mode                                1000 non-null   int64  \n",
      " 3   Application order                               1000 non-null   int64  \n",
      " 4   Course                                          1000 non-null   int64  \n",
      " 5   Daytime/evening attendance                      1000 non-null   int64  \n",
      " 6   Previous qualification                          1000 non-null   int64  \n",
      " 7   Previous qualification (grade)                  1000 non-null   float64\n",
      " 8   Nationality                                     1000 non-null   int64  \n",
      " 9   Mother's qualification                          1000 non-null   int64  \n",
      " 10  Father's qualification                          1000 non-null   int64  \n",
      " 11  Mother's occupation                             1000 non-null   int64  \n",
      " 12  Father's occupation                             1000 non-null   int64  \n",
      " 13  Admission grade                                 1000 non-null   float64\n",
      " 14  Displaced                                       1000 non-null   int64  \n",
      " 15  Educational special needs                       1000 non-null   int64  \n",
      " 16  Debtor                                          1000 non-null   int64  \n",
      " 17  Tuition fees up to date                         136 non-null    float64\n",
      " 18  Gender                                          1000 non-null   int64  \n",
      " 19  Scholarship holder                              1000 non-null   int64  \n",
      " 20  Age at enrollment                               1000 non-null   int64  \n",
      " 21  International                                   23 non-null     float64\n",
      " 22  Curricular units 1st sem (credited)             1000 non-null   int64  \n",
      " 23  Curricular units 1st sem (enrolled)             1000 non-null   int64  \n",
      " 24  Curricular units 1st sem (evaluations)          1000 non-null   int64  \n",
      " 25  Curricular units 1st sem (approved)             1000 non-null   int64  \n",
      " 26  Curricular units 1st sem (grade)                1000 non-null   float64\n",
      " 27  Curricular units 1st sem (without evaluations)  1000 non-null   int64  \n",
      " 28  Curricular units 2nd sem (credited)             1000 non-null   int64  \n",
      " 29  Curricular units 2nd sem (enrolled)             1000 non-null   int64  \n",
      " 30  Curricular units 2nd sem (evaluations)          1000 non-null   int64  \n",
      " 31  Curricular units 2nd sem (approved)             1000 non-null   int64  \n",
      " 32  Curricular units 2nd sem (grade)                1000 non-null   float64\n",
      " 33  Curricular units 2nd sem (without evaluations)  1000 non-null   int64  \n",
      " 34  Unemployment rate                               1000 non-null   float64\n",
      " 35  Inflation rate                                  1000 non-null   float64\n",
      " 36  GDP                                             1000 non-null   float64\n",
      " 37  Target                                          1000 non-null   object \n",
      "dtypes: float64(9), int64(28), object(1)\n",
      "memory usage: 297.0+ KB\n"
     ]
    }
   ],
   "source": [
    "df3.info()"
   ]
  },
  {
   "cell_type": "markdown",
   "id": "ee6d3f34",
   "metadata": {},
   "source": [
    "### Merge the data"
   ]
  },
  {
   "cell_type": "code",
   "execution_count": 11,
   "id": "5e4ca9d2",
   "metadata": {},
   "outputs": [],
   "source": [
    "# Merge df1 and df2 \n",
    "df12 = df1.merge(df2, how='outer', on=\"ID\")\n"
   ]
  },
  {
   "cell_type": "code",
   "execution_count": 12,
   "id": "def7a4ad",
   "metadata": {},
   "outputs": [
    {
     "data": {
      "text/html": [
       "<div>\n",
       "<style scoped>\n",
       "    .dataframe tbody tr th:only-of-type {\n",
       "        vertical-align: middle;\n",
       "    }\n",
       "\n",
       "    .dataframe tbody tr th {\n",
       "        vertical-align: top;\n",
       "    }\n",
       "\n",
       "    .dataframe thead th {\n",
       "        text-align: right;\n",
       "    }\n",
       "</style>\n",
       "<table border=\"1\" class=\"dataframe\">\n",
       "  <thead>\n",
       "    <tr style=\"text-align: right;\">\n",
       "      <th></th>\n",
       "      <th>ID</th>\n",
       "      <th>Marital status</th>\n",
       "      <th>Application mode</th>\n",
       "      <th>Application order</th>\n",
       "      <th>Course</th>\n",
       "      <th>Daytime/evening attendance</th>\n",
       "      <th>Previous qualification</th>\n",
       "      <th>Previous qualification (grade)</th>\n",
       "      <th>Nationality</th>\n",
       "      <th>Mother's qualification</th>\n",
       "      <th>...</th>\n",
       "      <th>Curricular units 2nd sem (credited)</th>\n",
       "      <th>Curricular units 2nd sem (enrolled)</th>\n",
       "      <th>Curricular units 2nd sem (evaluations)</th>\n",
       "      <th>Curricular units 2nd sem (approved)</th>\n",
       "      <th>Curricular units 2nd sem (grade)</th>\n",
       "      <th>Curricular units 2nd sem (without evaluations)</th>\n",
       "      <th>Unemployment rate</th>\n",
       "      <th>Inflation rate</th>\n",
       "      <th>GDP</th>\n",
       "      <th>Target</th>\n",
       "    </tr>\n",
       "  </thead>\n",
       "  <tbody>\n",
       "    <tr>\n",
       "      <th>0</th>\n",
       "      <td>2541</td>\n",
       "      <td>1</td>\n",
       "      <td>7</td>\n",
       "      <td>1</td>\n",
       "      <td>9147</td>\n",
       "      <td>1</td>\n",
       "      <td>3</td>\n",
       "      <td>120.0</td>\n",
       "      <td>1</td>\n",
       "      <td>1</td>\n",
       "      <td>...</td>\n",
       "      <td>0</td>\n",
       "      <td>5</td>\n",
       "      <td>5</td>\n",
       "      <td>0</td>\n",
       "      <td>0.000000</td>\n",
       "      <td>0</td>\n",
       "      <td>12.4</td>\n",
       "      <td>0.5</td>\n",
       "      <td>1.79</td>\n",
       "      <td>Drpout</td>\n",
       "    </tr>\n",
       "    <tr>\n",
       "      <th>1</th>\n",
       "      <td>2554</td>\n",
       "      <td>1</td>\n",
       "      <td>17</td>\n",
       "      <td>1</td>\n",
       "      <td>9991</td>\n",
       "      <td>0</td>\n",
       "      <td>1</td>\n",
       "      <td>160.0</td>\n",
       "      <td>1</td>\n",
       "      <td>34</td>\n",
       "      <td>...</td>\n",
       "      <td>0</td>\n",
       "      <td>5</td>\n",
       "      <td>5</td>\n",
       "      <td>0</td>\n",
       "      <td>0.000000</td>\n",
       "      <td>0</td>\n",
       "      <td>7.6</td>\n",
       "      <td>2.6</td>\n",
       "      <td>0.32</td>\n",
       "      <td>Dropout</td>\n",
       "    </tr>\n",
       "    <tr>\n",
       "      <th>2</th>\n",
       "      <td>2790</td>\n",
       "      <td>1</td>\n",
       "      <td>39</td>\n",
       "      <td>1</td>\n",
       "      <td>171</td>\n",
       "      <td>1</td>\n",
       "      <td>1</td>\n",
       "      <td>133.1</td>\n",
       "      <td>1</td>\n",
       "      <td>37</td>\n",
       "      <td>...</td>\n",
       "      <td>0</td>\n",
       "      <td>0</td>\n",
       "      <td>0</td>\n",
       "      <td>0</td>\n",
       "      <td>0.000000</td>\n",
       "      <td>0</td>\n",
       "      <td>15.5</td>\n",
       "      <td>2.8</td>\n",
       "      <td>-4.06</td>\n",
       "      <td>Dropout</td>\n",
       "    </tr>\n",
       "    <tr>\n",
       "      <th>3</th>\n",
       "      <td>2799</td>\n",
       "      <td>1</td>\n",
       "      <td>42</td>\n",
       "      <td>1</td>\n",
       "      <td>9500</td>\n",
       "      <td>1</td>\n",
       "      <td>1</td>\n",
       "      <td>150.0</td>\n",
       "      <td>1</td>\n",
       "      <td>19</td>\n",
       "      <td>...</td>\n",
       "      <td>6</td>\n",
       "      <td>14</td>\n",
       "      <td>20</td>\n",
       "      <td>14</td>\n",
       "      <td>13.072857</td>\n",
       "      <td>6</td>\n",
       "      <td>9.4</td>\n",
       "      <td>-0.8</td>\n",
       "      <td>-3.12</td>\n",
       "      <td>Graduate</td>\n",
       "    </tr>\n",
       "    <tr>\n",
       "      <th>4</th>\n",
       "      <td>2883</td>\n",
       "      <td>2</td>\n",
       "      <td>39</td>\n",
       "      <td>1</td>\n",
       "      <td>9991</td>\n",
       "      <td>0</td>\n",
       "      <td>1</td>\n",
       "      <td>133.1</td>\n",
       "      <td>1</td>\n",
       "      <td>37</td>\n",
       "      <td>...</td>\n",
       "      <td>0</td>\n",
       "      <td>5</td>\n",
       "      <td>13</td>\n",
       "      <td>2</td>\n",
       "      <td>12.000000</td>\n",
       "      <td>0</td>\n",
       "      <td>12.4</td>\n",
       "      <td>0.5</td>\n",
       "      <td>1.79</td>\n",
       "      <td>Dropout</td>\n",
       "    </tr>\n",
       "  </tbody>\n",
       "</table>\n",
       "<p>5 rows × 38 columns</p>\n",
       "</div>"
      ],
      "text/plain": [
       "     ID  Marital status  Application mode  Application order  Course  \\\n",
       "0  2541               1                 7                  1    9147   \n",
       "1  2554               1                17                  1    9991   \n",
       "2  2790               1                39                  1     171   \n",
       "3  2799               1                42                  1    9500   \n",
       "4  2883               2                39                  1    9991   \n",
       "\n",
       "  Daytime/evening attendance  Previous qualification  \\\n",
       "0                          1                       3   \n",
       "1                          0                       1   \n",
       "2                          1                       1   \n",
       "3                          1                       1   \n",
       "4                          0                       1   \n",
       "\n",
       "   Previous qualification (grade)  Nationality  Mother's qualification  ...  \\\n",
       "0                           120.0            1                       1  ...   \n",
       "1                           160.0            1                      34  ...   \n",
       "2                           133.1            1                      37  ...   \n",
       "3                           150.0            1                      19  ...   \n",
       "4                           133.1            1                      37  ...   \n",
       "\n",
       "  Curricular units 2nd sem (credited)  Curricular units 2nd sem (enrolled)  \\\n",
       "0                                   0                                    5   \n",
       "1                                   0                                    5   \n",
       "2                                   0                                    0   \n",
       "3                                   6                                   14   \n",
       "4                                   0                                    5   \n",
       "\n",
       "   Curricular units 2nd sem (evaluations)  \\\n",
       "0                                       5   \n",
       "1                                       5   \n",
       "2                                       0   \n",
       "3                                      20   \n",
       "4                                      13   \n",
       "\n",
       "   Curricular units 2nd sem (approved)  Curricular units 2nd sem (grade)  \\\n",
       "0                                    0                          0.000000   \n",
       "1                                    0                          0.000000   \n",
       "2                                    0                          0.000000   \n",
       "3                                   14                         13.072857   \n",
       "4                                    2                         12.000000   \n",
       "\n",
       "   Curricular units 2nd sem (without evaluations)  Unemployment rate  \\\n",
       "0                                               0               12.4   \n",
       "1                                               0                7.6   \n",
       "2                                               0               15.5   \n",
       "3                                               6                9.4   \n",
       "4                                               0               12.4   \n",
       "\n",
       "   Inflation rate   GDP    Target  \n",
       "0             0.5  1.79    Drpout  \n",
       "1             2.6  0.32   Dropout  \n",
       "2             2.8 -4.06   Dropout  \n",
       "3            -0.8 -3.12  Graduate  \n",
       "4             0.5  1.79   Dropout  \n",
       "\n",
       "[5 rows x 38 columns]"
      ]
     },
     "execution_count": 12,
     "metadata": {},
     "output_type": "execute_result"
    }
   ],
   "source": [
    "df12.head()"
   ]
  },
  {
   "cell_type": "code",
   "execution_count": 13,
   "id": "92fb2a06",
   "metadata": {},
   "outputs": [
    {
     "name": "stdout",
     "output_type": "stream",
     "text": [
      "<class 'pandas.core.frame.DataFrame'>\n",
      "Int64Index: 3424 entries, 0 to 3423\n",
      "Data columns (total 38 columns):\n",
      " #   Column                                          Non-Null Count  Dtype  \n",
      "---  ------                                          --------------  -----  \n",
      " 0   ID                                              3424 non-null   int64  \n",
      " 1   Marital status                                  3424 non-null   int64  \n",
      " 2   Application mode                                3424 non-null   int64  \n",
      " 3   Application order                               3424 non-null   int64  \n",
      " 4   Course                                          3424 non-null   int64  \n",
      " 5   Daytime/evening attendance                      3424 non-null   object \n",
      " 6   Previous qualification                          3424 non-null   int64  \n",
      " 7   Previous qualification (grade)                  3424 non-null   float64\n",
      " 8   Nationality                                     3424 non-null   int64  \n",
      " 9   Mother's qualification                          3424 non-null   int64  \n",
      " 10  Father's qualification                          3424 non-null   object \n",
      " 11  Mother's occupation                             3424 non-null   int64  \n",
      " 12  Father's occupation                             3424 non-null   int64  \n",
      " 13  Admission grade                                 3424 non-null   float64\n",
      " 14  Displaced                                       3424 non-null   int64  \n",
      " 15  Educational special needs                       3424 non-null   int64  \n",
      " 16  Debtor                                          3424 non-null   int64  \n",
      " 17  Tuition fees up to date                         3424 non-null   int64  \n",
      " 18  Gender                                          3424 non-null   int64  \n",
      " 19  Scholarship holder                              3424 non-null   int64  \n",
      " 20  Age at enrollment                               3424 non-null   int64  \n",
      " 21  International                                   3424 non-null   int64  \n",
      " 22  Curricular units 1st sem (credited)             3424 non-null   int64  \n",
      " 23  Curricular units 1st sem (enrolled)             3424 non-null   int64  \n",
      " 24  Curricular units 1st sem (evaluations)          3424 non-null   int64  \n",
      " 25  Curricular units 1st sem (approved)             3424 non-null   int64  \n",
      " 26  Curricular units 1st sem (grade)                3424 non-null   float64\n",
      " 27  Curricular units 1st sem (without evaluations)  3424 non-null   int64  \n",
      " 28  Curricular units 2nd sem (credited)             3424 non-null   int64  \n",
      " 29  Curricular units 2nd sem (enrolled)             3424 non-null   int64  \n",
      " 30  Curricular units 2nd sem (evaluations)          3424 non-null   int64  \n",
      " 31  Curricular units 2nd sem (approved)             3424 non-null   int64  \n",
      " 32  Curricular units 2nd sem (grade)                3424 non-null   float64\n",
      " 33  Curricular units 2nd sem (without evaluations)  3424 non-null   int64  \n",
      " 34  Unemployment rate                               3424 non-null   float64\n",
      " 35  Inflation rate                                  3424 non-null   float64\n",
      " 36  GDP                                             3424 non-null   float64\n",
      " 37  Target                                          3424 non-null   object \n",
      "dtypes: float64(7), int64(28), object(3)\n",
      "memory usage: 1.0+ MB\n"
     ]
    }
   ],
   "source": [
    "df12.info()"
   ]
  },
  {
   "cell_type": "code",
   "execution_count": 14,
   "id": "e4f21e13",
   "metadata": {},
   "outputs": [],
   "source": [
    "# Merge the df12 to df3\n",
    "df123 = pd.concat([df12, df3])"
   ]
  },
  {
   "cell_type": "code",
   "execution_count": 15,
   "id": "3b782e52",
   "metadata": {},
   "outputs": [
    {
     "data": {
      "text/html": [
       "<div>\n",
       "<style scoped>\n",
       "    .dataframe tbody tr th:only-of-type {\n",
       "        vertical-align: middle;\n",
       "    }\n",
       "\n",
       "    .dataframe tbody tr th {\n",
       "        vertical-align: top;\n",
       "    }\n",
       "\n",
       "    .dataframe thead th {\n",
       "        text-align: right;\n",
       "    }\n",
       "</style>\n",
       "<table border=\"1\" class=\"dataframe\">\n",
       "  <thead>\n",
       "    <tr style=\"text-align: right;\">\n",
       "      <th></th>\n",
       "      <th>ID</th>\n",
       "      <th>Marital status</th>\n",
       "      <th>Application mode</th>\n",
       "      <th>Application order</th>\n",
       "      <th>Course</th>\n",
       "      <th>Daytime/evening attendance</th>\n",
       "      <th>Previous qualification</th>\n",
       "      <th>Previous qualification (grade)</th>\n",
       "      <th>Nationality</th>\n",
       "      <th>Mother's qualification</th>\n",
       "      <th>...</th>\n",
       "      <th>Curricular units 2nd sem (credited)</th>\n",
       "      <th>Curricular units 2nd sem (enrolled)</th>\n",
       "      <th>Curricular units 2nd sem (evaluations)</th>\n",
       "      <th>Curricular units 2nd sem (approved)</th>\n",
       "      <th>Curricular units 2nd sem (grade)</th>\n",
       "      <th>Curricular units 2nd sem (without evaluations)</th>\n",
       "      <th>Unemployment rate</th>\n",
       "      <th>Inflation rate</th>\n",
       "      <th>GDP</th>\n",
       "      <th>Target</th>\n",
       "    </tr>\n",
       "  </thead>\n",
       "  <tbody>\n",
       "    <tr>\n",
       "      <th>0</th>\n",
       "      <td>2541</td>\n",
       "      <td>1</td>\n",
       "      <td>7</td>\n",
       "      <td>1</td>\n",
       "      <td>9147</td>\n",
       "      <td>1</td>\n",
       "      <td>3</td>\n",
       "      <td>120.0</td>\n",
       "      <td>1</td>\n",
       "      <td>1</td>\n",
       "      <td>...</td>\n",
       "      <td>0</td>\n",
       "      <td>5</td>\n",
       "      <td>5</td>\n",
       "      <td>0</td>\n",
       "      <td>0.000000</td>\n",
       "      <td>0</td>\n",
       "      <td>12.4</td>\n",
       "      <td>0.5</td>\n",
       "      <td>1.79</td>\n",
       "      <td>Drpout</td>\n",
       "    </tr>\n",
       "    <tr>\n",
       "      <th>1</th>\n",
       "      <td>2554</td>\n",
       "      <td>1</td>\n",
       "      <td>17</td>\n",
       "      <td>1</td>\n",
       "      <td>9991</td>\n",
       "      <td>0</td>\n",
       "      <td>1</td>\n",
       "      <td>160.0</td>\n",
       "      <td>1</td>\n",
       "      <td>34</td>\n",
       "      <td>...</td>\n",
       "      <td>0</td>\n",
       "      <td>5</td>\n",
       "      <td>5</td>\n",
       "      <td>0</td>\n",
       "      <td>0.000000</td>\n",
       "      <td>0</td>\n",
       "      <td>7.6</td>\n",
       "      <td>2.6</td>\n",
       "      <td>0.32</td>\n",
       "      <td>Dropout</td>\n",
       "    </tr>\n",
       "    <tr>\n",
       "      <th>2</th>\n",
       "      <td>2790</td>\n",
       "      <td>1</td>\n",
       "      <td>39</td>\n",
       "      <td>1</td>\n",
       "      <td>171</td>\n",
       "      <td>1</td>\n",
       "      <td>1</td>\n",
       "      <td>133.1</td>\n",
       "      <td>1</td>\n",
       "      <td>37</td>\n",
       "      <td>...</td>\n",
       "      <td>0</td>\n",
       "      <td>0</td>\n",
       "      <td>0</td>\n",
       "      <td>0</td>\n",
       "      <td>0.000000</td>\n",
       "      <td>0</td>\n",
       "      <td>15.5</td>\n",
       "      <td>2.8</td>\n",
       "      <td>-4.06</td>\n",
       "      <td>Dropout</td>\n",
       "    </tr>\n",
       "    <tr>\n",
       "      <th>3</th>\n",
       "      <td>2799</td>\n",
       "      <td>1</td>\n",
       "      <td>42</td>\n",
       "      <td>1</td>\n",
       "      <td>9500</td>\n",
       "      <td>1</td>\n",
       "      <td>1</td>\n",
       "      <td>150.0</td>\n",
       "      <td>1</td>\n",
       "      <td>19</td>\n",
       "      <td>...</td>\n",
       "      <td>6</td>\n",
       "      <td>14</td>\n",
       "      <td>20</td>\n",
       "      <td>14</td>\n",
       "      <td>13.072857</td>\n",
       "      <td>6</td>\n",
       "      <td>9.4</td>\n",
       "      <td>-0.8</td>\n",
       "      <td>-3.12</td>\n",
       "      <td>Graduate</td>\n",
       "    </tr>\n",
       "    <tr>\n",
       "      <th>4</th>\n",
       "      <td>2883</td>\n",
       "      <td>2</td>\n",
       "      <td>39</td>\n",
       "      <td>1</td>\n",
       "      <td>9991</td>\n",
       "      <td>0</td>\n",
       "      <td>1</td>\n",
       "      <td>133.1</td>\n",
       "      <td>1</td>\n",
       "      <td>37</td>\n",
       "      <td>...</td>\n",
       "      <td>0</td>\n",
       "      <td>5</td>\n",
       "      <td>13</td>\n",
       "      <td>2</td>\n",
       "      <td>12.000000</td>\n",
       "      <td>0</td>\n",
       "      <td>12.4</td>\n",
       "      <td>0.5</td>\n",
       "      <td>1.79</td>\n",
       "      <td>Dropout</td>\n",
       "    </tr>\n",
       "  </tbody>\n",
       "</table>\n",
       "<p>5 rows × 38 columns</p>\n",
       "</div>"
      ],
      "text/plain": [
       "     ID  Marital status  Application mode  Application order  Course  \\\n",
       "0  2541               1                 7                  1    9147   \n",
       "1  2554               1                17                  1    9991   \n",
       "2  2790               1                39                  1     171   \n",
       "3  2799               1                42                  1    9500   \n",
       "4  2883               2                39                  1    9991   \n",
       "\n",
       "  Daytime/evening attendance  Previous qualification  \\\n",
       "0                          1                       3   \n",
       "1                          0                       1   \n",
       "2                          1                       1   \n",
       "3                          1                       1   \n",
       "4                          0                       1   \n",
       "\n",
       "   Previous qualification (grade)  Nationality  Mother's qualification  ...  \\\n",
       "0                           120.0            1                       1  ...   \n",
       "1                           160.0            1                      34  ...   \n",
       "2                           133.1            1                      37  ...   \n",
       "3                           150.0            1                      19  ...   \n",
       "4                           133.1            1                      37  ...   \n",
       "\n",
       "  Curricular units 2nd sem (credited)  Curricular units 2nd sem (enrolled)  \\\n",
       "0                                   0                                    5   \n",
       "1                                   0                                    5   \n",
       "2                                   0                                    0   \n",
       "3                                   6                                   14   \n",
       "4                                   0                                    5   \n",
       "\n",
       "   Curricular units 2nd sem (evaluations)  \\\n",
       "0                                       5   \n",
       "1                                       5   \n",
       "2                                       0   \n",
       "3                                      20   \n",
       "4                                      13   \n",
       "\n",
       "   Curricular units 2nd sem (approved)  Curricular units 2nd sem (grade)  \\\n",
       "0                                    0                          0.000000   \n",
       "1                                    0                          0.000000   \n",
       "2                                    0                          0.000000   \n",
       "3                                   14                         13.072857   \n",
       "4                                    2                         12.000000   \n",
       "\n",
       "   Curricular units 2nd sem (without evaluations)  Unemployment rate  \\\n",
       "0                                               0               12.4   \n",
       "1                                               0                7.6   \n",
       "2                                               0               15.5   \n",
       "3                                               6                9.4   \n",
       "4                                               0               12.4   \n",
       "\n",
       "   Inflation rate   GDP    Target  \n",
       "0             0.5  1.79    Drpout  \n",
       "1             2.6  0.32   Dropout  \n",
       "2             2.8 -4.06   Dropout  \n",
       "3            -0.8 -3.12  Graduate  \n",
       "4             0.5  1.79   Dropout  \n",
       "\n",
       "[5 rows x 38 columns]"
      ]
     },
     "execution_count": 15,
     "metadata": {},
     "output_type": "execute_result"
    }
   ],
   "source": [
    "df123.head()"
   ]
  },
  {
   "cell_type": "code",
   "execution_count": 16,
   "id": "b287c0f9",
   "metadata": {},
   "outputs": [
    {
     "name": "stdout",
     "output_type": "stream",
     "text": [
      "<class 'pandas.core.frame.DataFrame'>\n",
      "Int64Index: 4424 entries, 0 to 999\n",
      "Data columns (total 38 columns):\n",
      " #   Column                                          Non-Null Count  Dtype  \n",
      "---  ------                                          --------------  -----  \n",
      " 0   ID                                              4424 non-null   int64  \n",
      " 1   Marital status                                  4424 non-null   int64  \n",
      " 2   Application mode                                4424 non-null   int64  \n",
      " 3   Application order                               4424 non-null   int64  \n",
      " 4   Course                                          4424 non-null   int64  \n",
      " 5   Daytime/evening attendance                      4424 non-null   object \n",
      " 6   Previous qualification                          4424 non-null   int64  \n",
      " 7   Previous qualification (grade)                  4424 non-null   float64\n",
      " 8   Nationality                                     4424 non-null   int64  \n",
      " 9   Mother's qualification                          4424 non-null   int64  \n",
      " 10  Father's qualification                          4424 non-null   object \n",
      " 11  Mother's occupation                             4424 non-null   int64  \n",
      " 12  Father's occupation                             4424 non-null   int64  \n",
      " 13  Admission grade                                 4424 non-null   float64\n",
      " 14  Displaced                                       4424 non-null   int64  \n",
      " 15  Educational special needs                       4424 non-null   int64  \n",
      " 16  Debtor                                          4424 non-null   int64  \n",
      " 17  Tuition fees up to date                         3560 non-null   float64\n",
      " 18  Gender                                          4424 non-null   int64  \n",
      " 19  Scholarship holder                              4424 non-null   int64  \n",
      " 20  Age at enrollment                               4424 non-null   int64  \n",
      " 21  International                                   3447 non-null   float64\n",
      " 22  Curricular units 1st sem (credited)             4424 non-null   int64  \n",
      " 23  Curricular units 1st sem (enrolled)             4424 non-null   int64  \n",
      " 24  Curricular units 1st sem (evaluations)          4424 non-null   int64  \n",
      " 25  Curricular units 1st sem (approved)             4424 non-null   int64  \n",
      " 26  Curricular units 1st sem (grade)                4424 non-null   float64\n",
      " 27  Curricular units 1st sem (without evaluations)  4424 non-null   int64  \n",
      " 28  Curricular units 2nd sem (credited)             4424 non-null   int64  \n",
      " 29  Curricular units 2nd sem (enrolled)             4424 non-null   int64  \n",
      " 30  Curricular units 2nd sem (evaluations)          4424 non-null   int64  \n",
      " 31  Curricular units 2nd sem (approved)             4424 non-null   int64  \n",
      " 32  Curricular units 2nd sem (grade)                4424 non-null   float64\n",
      " 33  Curricular units 2nd sem (without evaluations)  4424 non-null   int64  \n",
      " 34  Unemployment rate                               4424 non-null   float64\n",
      " 35  Inflation rate                                  4424 non-null   float64\n",
      " 36  GDP                                             4424 non-null   float64\n",
      " 37  Target                                          4424 non-null   object \n",
      "dtypes: float64(9), int64(26), object(3)\n",
      "memory usage: 1.3+ MB\n"
     ]
    }
   ],
   "source": [
    "df123.info()"
   ]
  },
  {
   "cell_type": "markdown",
   "id": "d07eb57d",
   "metadata": {},
   "source": [
    "### Task 1.3: Clean Data"
   ]
  },
  {
   "cell_type": "code",
   "execution_count": 17,
   "id": "21cbb2c8",
   "metadata": {},
   "outputs": [
    {
     "name": "stdout",
     "output_type": "stream",
     "text": [
      "<class 'pandas.core.frame.DataFrame'>\n",
      "Int64Index: 4424 entries, 0 to 999\n",
      "Data columns (total 38 columns):\n",
      " #   Column                                          Non-Null Count  Dtype  \n",
      "---  ------                                          --------------  -----  \n",
      " 0   ID                                              4424 non-null   int64  \n",
      " 1   Marital status                                  4424 non-null   int64  \n",
      " 2   Application mode                                4424 non-null   int64  \n",
      " 3   Application order                               4424 non-null   int64  \n",
      " 4   Course                                          4424 non-null   int64  \n",
      " 5   Daytime/evening attendance                      4424 non-null   object \n",
      " 6   Previous qualification                          4424 non-null   int64  \n",
      " 7   Previous qualification (grade)                  4424 non-null   float64\n",
      " 8   Nationality                                     4424 non-null   int64  \n",
      " 9   Mother's qualification                          4424 non-null   int64  \n",
      " 10  Father's qualification                          4424 non-null   object \n",
      " 11  Mother's occupation                             4424 non-null   int64  \n",
      " 12  Father's occupation                             4424 non-null   int64  \n",
      " 13  Admission grade                                 4424 non-null   float64\n",
      " 14  Displaced                                       4424 non-null   int64  \n",
      " 15  Educational special needs                       4424 non-null   int64  \n",
      " 16  Debtor                                          4424 non-null   int64  \n",
      " 17  Tuition fees up to date                         3560 non-null   float64\n",
      " 18  Gender                                          4424 non-null   int64  \n",
      " 19  Scholarship holder                              4424 non-null   int64  \n",
      " 20  Age at enrollment                               4424 non-null   int64  \n",
      " 21  International                                   3447 non-null   float64\n",
      " 22  Curricular units 1st sem (credited)             4424 non-null   int64  \n",
      " 23  Curricular units 1st sem (enrolled)             4424 non-null   int64  \n",
      " 24  Curricular units 1st sem (evaluations)          4424 non-null   int64  \n",
      " 25  Curricular units 1st sem (approved)             4424 non-null   int64  \n",
      " 26  Curricular units 1st sem (grade)                4424 non-null   float64\n",
      " 27  Curricular units 1st sem (without evaluations)  4424 non-null   int64  \n",
      " 28  Curricular units 2nd sem (credited)             4424 non-null   int64  \n",
      " 29  Curricular units 2nd sem (enrolled)             4424 non-null   int64  \n",
      " 30  Curricular units 2nd sem (evaluations)          4424 non-null   int64  \n",
      " 31  Curricular units 2nd sem (approved)             4424 non-null   int64  \n",
      " 32  Curricular units 2nd sem (grade)                4424 non-null   float64\n",
      " 33  Curricular units 2nd sem (without evaluations)  4424 non-null   int64  \n",
      " 34  Unemployment rate                               4424 non-null   float64\n",
      " 35  Inflation rate                                  4424 non-null   float64\n",
      " 36  GDP                                             4424 non-null   float64\n",
      " 37  Target                                          4424 non-null   object \n",
      "dtypes: float64(9), int64(26), object(3)\n",
      "memory usage: 1.3+ MB\n"
     ]
    }
   ],
   "source": [
    "df123.info()"
   ]
  },
  {
   "cell_type": "code",
   "execution_count": 18,
   "id": "65f532d1",
   "metadata": {},
   "outputs": [],
   "source": [
    "df123_cleaned = df123.copy()"
   ]
  },
  {
   "cell_type": "code",
   "execution_count": 19,
   "id": "8bb61bd7",
   "metadata": {},
   "outputs": [
    {
     "name": "stdout",
     "output_type": "stream",
     "text": [
      "<class 'pandas.core.frame.DataFrame'>\n",
      "Int64Index: 4424 entries, 0 to 999\n",
      "Data columns (total 38 columns):\n",
      " #   Column                                          Non-Null Count  Dtype  \n",
      "---  ------                                          --------------  -----  \n",
      " 0   ID                                              4424 non-null   int64  \n",
      " 1   Marital status                                  4424 non-null   int64  \n",
      " 2   Application mode                                4424 non-null   int64  \n",
      " 3   Application order                               4424 non-null   int64  \n",
      " 4   Course                                          4424 non-null   int64  \n",
      " 5   Daytime/evening attendance                      4424 non-null   object \n",
      " 6   Previous qualification                          4424 non-null   int64  \n",
      " 7   Previous qualification (grade)                  4424 non-null   float64\n",
      " 8   Nationality                                     4424 non-null   int64  \n",
      " 9   Mother's qualification                          4424 non-null   int64  \n",
      " 10  Father's qualification                          4424 non-null   object \n",
      " 11  Mother's occupation                             4424 non-null   int64  \n",
      " 12  Father's occupation                             4424 non-null   int64  \n",
      " 13  Admission grade                                 4424 non-null   float64\n",
      " 14  Displaced                                       4424 non-null   int64  \n",
      " 15  Educational special needs                       4424 non-null   int64  \n",
      " 16  Debtor                                          4424 non-null   int64  \n",
      " 17  Tuition fees up to date                         3560 non-null   float64\n",
      " 18  Gender                                          4424 non-null   int64  \n",
      " 19  Scholarship holder                              4424 non-null   int64  \n",
      " 20  Age at enrollment                               4424 non-null   int64  \n",
      " 21  International                                   3447 non-null   float64\n",
      " 22  Curricular units 1st sem (credited)             4424 non-null   int64  \n",
      " 23  Curricular units 1st sem (enrolled)             4424 non-null   int64  \n",
      " 24  Curricular units 1st sem (evaluations)          4424 non-null   int64  \n",
      " 25  Curricular units 1st sem (approved)             4424 non-null   int64  \n",
      " 26  Curricular units 1st sem (grade)                4424 non-null   float64\n",
      " 27  Curricular units 1st sem (without evaluations)  4424 non-null   int64  \n",
      " 28  Curricular units 2nd sem (credited)             4424 non-null   int64  \n",
      " 29  Curricular units 2nd sem (enrolled)             4424 non-null   int64  \n",
      " 30  Curricular units 2nd sem (evaluations)          4424 non-null   int64  \n",
      " 31  Curricular units 2nd sem (approved)             4424 non-null   int64  \n",
      " 32  Curricular units 2nd sem (grade)                4424 non-null   float64\n",
      " 33  Curricular units 2nd sem (without evaluations)  4424 non-null   int64  \n",
      " 34  Unemployment rate                               4424 non-null   float64\n",
      " 35  Inflation rate                                  4424 non-null   float64\n",
      " 36  GDP                                             4424 non-null   float64\n",
      " 37  Target                                          4424 non-null   object \n",
      "dtypes: float64(9), int64(26), object(3)\n",
      "memory usage: 1.3+ MB\n"
     ]
    }
   ],
   "source": [
    "df123_cleaned.info()"
   ]
  },
  {
   "cell_type": "code",
   "execution_count": 20,
   "id": "8432a692",
   "metadata": {},
   "outputs": [],
   "source": [
    "df123_cleaned[\"Father's qualification\"] = pd.to_numeric(df123_cleaned[\"Father's qualification\"], errors=\"coerce\")"
   ]
  },
  {
   "cell_type": "code",
   "execution_count": 21,
   "id": "4c90d898",
   "metadata": {},
   "outputs": [
    {
     "data": {
      "text/plain": [
       "array([39., 34., 37.,  1., 38., 19.,  2.,  3., 35., 11., 25.,  5., 26.,\n",
       "       40., 41.,  4., 22., 20., 29., 31., 36.,  6., 12.,  9., 27., 14.,\n",
       "       10., 44., 33., 13., 30., nan, 18., 43., 42.])"
      ]
     },
     "execution_count": 21,
     "metadata": {},
     "output_type": "execute_result"
    }
   ],
   "source": [
    "df123_cleaned[\"Father's qualification\"].unique()"
   ]
  },
  {
   "cell_type": "code",
   "execution_count": 22,
   "id": "4bc4ea54",
   "metadata": {
    "scrolled": false
   },
   "outputs": [
    {
     "name": "stdout",
     "output_type": "stream",
     "text": [
      "<class 'pandas.core.frame.DataFrame'>\n",
      "Int64Index: 4424 entries, 0 to 999\n",
      "Data columns (total 38 columns):\n",
      " #   Column                                          Non-Null Count  Dtype  \n",
      "---  ------                                          --------------  -----  \n",
      " 0   ID                                              4424 non-null   int64  \n",
      " 1   Marital status                                  4424 non-null   int64  \n",
      " 2   Application mode                                4424 non-null   int64  \n",
      " 3   Application order                               4424 non-null   int64  \n",
      " 4   Course                                          4424 non-null   int64  \n",
      " 5   Daytime/evening attendance                      4424 non-null   object \n",
      " 6   Previous qualification                          4424 non-null   int64  \n",
      " 7   Previous qualification (grade)                  4424 non-null   float64\n",
      " 8   Nationality                                     4424 non-null   int64  \n",
      " 9   Mother's qualification                          4424 non-null   int64  \n",
      " 10  Father's qualification                          4423 non-null   float64\n",
      " 11  Mother's occupation                             4424 non-null   int64  \n",
      " 12  Father's occupation                             4424 non-null   int64  \n",
      " 13  Admission grade                                 4424 non-null   float64\n",
      " 14  Displaced                                       4424 non-null   int64  \n",
      " 15  Educational special needs                       4424 non-null   int64  \n",
      " 16  Debtor                                          4424 non-null   int64  \n",
      " 17  Tuition fees up to date                         3560 non-null   float64\n",
      " 18  Gender                                          4424 non-null   int64  \n",
      " 19  Scholarship holder                              4424 non-null   int64  \n",
      " 20  Age at enrollment                               4424 non-null   int64  \n",
      " 21  International                                   3447 non-null   float64\n",
      " 22  Curricular units 1st sem (credited)             4424 non-null   int64  \n",
      " 23  Curricular units 1st sem (enrolled)             4424 non-null   int64  \n",
      " 24  Curricular units 1st sem (evaluations)          4424 non-null   int64  \n",
      " 25  Curricular units 1st sem (approved)             4424 non-null   int64  \n",
      " 26  Curricular units 1st sem (grade)                4424 non-null   float64\n",
      " 27  Curricular units 1st sem (without evaluations)  4424 non-null   int64  \n",
      " 28  Curricular units 2nd sem (credited)             4424 non-null   int64  \n",
      " 29  Curricular units 2nd sem (enrolled)             4424 non-null   int64  \n",
      " 30  Curricular units 2nd sem (evaluations)          4424 non-null   int64  \n",
      " 31  Curricular units 2nd sem (approved)             4424 non-null   int64  \n",
      " 32  Curricular units 2nd sem (grade)                4424 non-null   float64\n",
      " 33  Curricular units 2nd sem (without evaluations)  4424 non-null   int64  \n",
      " 34  Unemployment rate                               4424 non-null   float64\n",
      " 35  Inflation rate                                  4424 non-null   float64\n",
      " 36  GDP                                             4424 non-null   float64\n",
      " 37  Target                                          4424 non-null   object \n",
      "dtypes: float64(10), int64(26), object(2)\n",
      "memory usage: 1.3+ MB\n"
     ]
    }
   ],
   "source": [
    "df123_cleaned.info()"
   ]
  },
  {
   "cell_type": "code",
   "execution_count": 23,
   "id": "a703484b",
   "metadata": {},
   "outputs": [
    {
     "data": {
      "text/plain": [
       "array(['1', '0', 'Y', 1, 0], dtype=object)"
      ]
     },
     "execution_count": 23,
     "metadata": {},
     "output_type": "execute_result"
    }
   ],
   "source": [
    "df123_cleaned['Daytime/evening attendance'].unique()"
   ]
  },
  {
   "cell_type": "code",
   "execution_count": 24,
   "id": "ea393d90",
   "metadata": {},
   "outputs": [],
   "source": [
    "# replace the values with 0 or 1\n",
    "df123_cleaned['Daytime/evening attendance'] = df123_cleaned['Daytime/evening attendance'].replace(['0', '1', 'Y'], [0, 1, 1])"
   ]
  },
  {
   "cell_type": "code",
   "execution_count": 25,
   "id": "e0693ba9",
   "metadata": {},
   "outputs": [
    {
     "data": {
      "text/plain": [
       "array([1, 0])"
      ]
     },
     "execution_count": 25,
     "metadata": {},
     "output_type": "execute_result"
    }
   ],
   "source": [
    "df123_cleaned['Daytime/evening attendance'].unique()"
   ]
  },
  {
   "cell_type": "code",
   "execution_count": 26,
   "id": "c348b419",
   "metadata": {},
   "outputs": [
    {
     "data": {
      "text/plain": [
       "array(['Drpout', 'Dropout', 'Graduate', 'Enrolled', 'Dropot', 'Grduate',\n",
       "       'enroled'], dtype=object)"
      ]
     },
     "execution_count": 26,
     "metadata": {},
     "output_type": "execute_result"
    }
   ],
   "source": [
    "df123_cleaned[\"Target\"].unique()"
   ]
  },
  {
   "cell_type": "code",
   "execution_count": 27,
   "id": "dff2c9ce",
   "metadata": {
    "scrolled": true
   },
   "outputs": [],
   "source": [
    "# replace typo errors\n",
    "df123_cleaned[\"Target\"] = df123_cleaned[\"Target\"].replace({'Drpout': 'Dropout', 'Dropot': 'Dropout', 'Grduate': 'Graduate', 'enroled': 'Enrolled'})"
   ]
  },
  {
   "cell_type": "code",
   "execution_count": 28,
   "id": "8ecb5816",
   "metadata": {},
   "outputs": [
    {
     "data": {
      "text/plain": [
       "array(['Dropout', 'Graduate', 'Enrolled'], dtype=object)"
      ]
     },
     "execution_count": 28,
     "metadata": {},
     "output_type": "execute_result"
    }
   ],
   "source": [
    "df123_cleaned[\"Target\"].unique()"
   ]
  },
  {
   "cell_type": "code",
   "execution_count": 29,
   "id": "bc33487f",
   "metadata": {},
   "outputs": [
    {
     "data": {
      "text/plain": [
       "ID                                                False\n",
       "Marital status                                    False\n",
       "Application mode                                  False\n",
       "Application order                                 False\n",
       "Course                                            False\n",
       "Daytime/evening attendance                        False\n",
       "Previous qualification                            False\n",
       "Previous qualification (grade)                    False\n",
       "Nationality                                       False\n",
       "Mother's qualification                            False\n",
       "Father's qualification                             True\n",
       "Mother's occupation                               False\n",
       "Father's occupation                               False\n",
       "Admission grade                                   False\n",
       "Displaced                                         False\n",
       "Educational special needs                         False\n",
       "Debtor                                            False\n",
       "Tuition fees up to date                            True\n",
       "Gender                                            False\n",
       "Scholarship holder                                False\n",
       "Age at enrollment                                 False\n",
       "International                                      True\n",
       "Curricular units 1st sem (credited)               False\n",
       "Curricular units 1st sem (enrolled)               False\n",
       "Curricular units 1st sem (evaluations)            False\n",
       "Curricular units 1st sem (approved)               False\n",
       "Curricular units 1st sem (grade)                  False\n",
       "Curricular units 1st sem (without evaluations)    False\n",
       "Curricular units 2nd sem (credited)               False\n",
       "Curricular units 2nd sem (enrolled)               False\n",
       "Curricular units 2nd sem (evaluations)            False\n",
       "Curricular units 2nd sem (approved)               False\n",
       "Curricular units 2nd sem (grade)                  False\n",
       "Curricular units 2nd sem (without evaluations)    False\n",
       "Unemployment rate                                 False\n",
       "Inflation rate                                    False\n",
       "GDP                                               False\n",
       "Target                                            False\n",
       "dtype: bool"
      ]
     },
     "execution_count": 29,
     "metadata": {},
     "output_type": "execute_result"
    }
   ],
   "source": [
    "# Identify and handle missing values\n",
    "df123_cleaned.isnull().any()"
   ]
  },
  {
   "cell_type": "code",
   "execution_count": 30,
   "id": "51cc3bba",
   "metadata": {},
   "outputs": [
    {
     "name": "stdout",
     "output_type": "stream",
     "text": [
      "3\n",
      "ID                                                  0\n",
      "Marital status                                      0\n",
      "Application mode                                    0\n",
      "Application order                                   0\n",
      "Course                                              0\n",
      "Daytime/evening attendance                          0\n",
      "Previous qualification                              0\n",
      "Previous qualification (grade)                      0\n",
      "Nationality                                         0\n",
      "Mother's qualification                              0\n",
      "Father's qualification                              1\n",
      "Mother's occupation                                 0\n",
      "Father's occupation                                 0\n",
      "Admission grade                                     0\n",
      "Displaced                                           0\n",
      "Educational special needs                           0\n",
      "Debtor                                              0\n",
      "Tuition fees up to date                           864\n",
      "Gender                                              0\n",
      "Scholarship holder                                  0\n",
      "Age at enrollment                                   0\n",
      "International                                     977\n",
      "Curricular units 1st sem (credited)                 0\n",
      "Curricular units 1st sem (enrolled)                 0\n",
      "Curricular units 1st sem (evaluations)              0\n",
      "Curricular units 1st sem (approved)                 0\n",
      "Curricular units 1st sem (grade)                    0\n",
      "Curricular units 1st sem (without evaluations)      0\n",
      "Curricular units 2nd sem (credited)                 0\n",
      "Curricular units 2nd sem (enrolled)                 0\n",
      "Curricular units 2nd sem (evaluations)              0\n",
      "Curricular units 2nd sem (approved)                 0\n",
      "Curricular units 2nd sem (grade)                    0\n",
      "Curricular units 2nd sem (without evaluations)      0\n",
      "Unemployment rate                                   0\n",
      "Inflation rate                                      0\n",
      "GDP                                                 0\n",
      "Target                                              0\n",
      "dtype: int64\n"
     ]
    }
   ],
   "source": [
    "print(df123_cleaned.isnull().any().sum()) #show how many column has missing value\n",
    "print(df123_cleaned.isnull().sum()) #show how many missing value each"
   ]
  },
  {
   "cell_type": "code",
   "execution_count": 31,
   "id": "68f4d471",
   "metadata": {},
   "outputs": [
    {
     "name": "stdout",
     "output_type": "stream",
     "text": [
      "Columns with more than 50% missing values: []\n"
     ]
    }
   ],
   "source": [
    "# check for columns with > 50% missing values\n",
    "missing_cols = []\n",
    "for col in df123_cleaned.columns:\n",
    "    if df123_cleaned[col].isnull().sum() / len(df123_cleaned) > 0.5:\n",
    "        missing_cols.append(col)\n",
    "print(f\"Columns with more than 50% missing values: {missing_cols}\")\n"
   ]
  },
  {
   "cell_type": "code",
   "execution_count": 32,
   "id": "c3799a7f",
   "metadata": {},
   "outputs": [
    {
     "name": "stdout",
     "output_type": "stream",
     "text": [
      "Rows with more than 50% missing values: []\n"
     ]
    }
   ],
   "source": [
    "# check for rows with > 50% missing values\n",
    "missing_rows = []\n",
    "for index, row in df123_cleaned.iterrows():\n",
    "    if row.isnull().sum() / len(df123_cleaned.columns) > 0.5:\n",
    "        missing_rows.append(index)\n",
    "print(f\"Rows with more than 50% missing values: {missing_rows}\")"
   ]
  },
  {
   "cell_type": "code",
   "execution_count": 33,
   "id": "ad569bb8",
   "metadata": {},
   "outputs": [
    {
     "name": "stdout",
     "output_type": "stream",
     "text": [
      "Columns with missing values: [\"Father's qualification\", 'Tuition fees up to date', 'International']\n"
     ]
    }
   ],
   "source": [
    "# check for columns with <= 50% missing values\n",
    "missing_cols = []\n",
    "for col in df123_cleaned.columns:\n",
    "    if df123_cleaned[col].isna().sum() > 0:\n",
    "        missing_cols.append(col)\n",
    "print(f\"Columns with missing values: {missing_cols}\")"
   ]
  },
  {
   "cell_type": "code",
   "execution_count": 34,
   "id": "76574925",
   "metadata": {},
   "outputs": [
    {
     "name": "stdout",
     "output_type": "stream",
     "text": [
      "[\"Father's qualification\", 'Tuition fees up to date', 'International']\n"
     ]
    }
   ],
   "source": [
    "print(missing_cols)"
   ]
  },
  {
   "cell_type": "code",
   "execution_count": 35,
   "id": "3dac7e37",
   "metadata": {},
   "outputs": [
    {
     "name": "stdout",
     "output_type": "stream",
     "text": [
      "37.0    1210\n",
      "19.0     967\n",
      "1.0      904\n",
      "38.0     702\n",
      "3.0      282\n",
      "34.0     112\n",
      "2.0       68\n",
      "4.0       39\n",
      "12.0      38\n",
      "39.0      20\n",
      "5.0       18\n",
      "11.0      10\n",
      "36.0       8\n",
      "40.0       5\n",
      "9.0        5\n",
      "30.0       4\n",
      "22.0       4\n",
      "14.0       4\n",
      "29.0       3\n",
      "6.0        2\n",
      "10.0       2\n",
      "41.0       2\n",
      "26.0       2\n",
      "43.0       2\n",
      "35.0       2\n",
      "18.0       1\n",
      "33.0       1\n",
      "13.0       1\n",
      "20.0       1\n",
      "44.0       1\n",
      "27.0       1\n",
      "31.0       1\n",
      "25.0       1\n",
      "42.0       1\n",
      "Name: Father's qualification, dtype: int64\n",
      "1.0    3896\n",
      "0.0     528\n",
      "Name: Tuition fees up to date, dtype: int64\n",
      "0.0    4314\n",
      "1.0     110\n",
      "Name: International, dtype: int64\n"
     ]
    }
   ],
   "source": [
    "# fill missing values in columns with <= 50% missing values with mode value\n",
    "for col in missing_cols:\n",
    "        df123_cleaned[col] = df123_cleaned[col].fillna(df123_cleaned[col].mode()[0])\n",
    "        print(df123_cleaned[col].value_counts())"
   ]
  },
  {
   "cell_type": "code",
   "execution_count": 36,
   "id": "d404ca3d",
   "metadata": {},
   "outputs": [
    {
     "data": {
      "text/plain": [
       "0"
      ]
     },
     "execution_count": 36,
     "metadata": {},
     "output_type": "execute_result"
    }
   ],
   "source": [
    "df123_cleaned.isnull().any().sum()"
   ]
  },
  {
   "cell_type": "code",
   "execution_count": 37,
   "id": "806f6b18",
   "metadata": {},
   "outputs": [
    {
     "data": {
      "text/plain": [
       "Father's qualification  Tuition fees up to date  International\n",
       "37                      1                        0                1013\n",
       "19                      1                        0                 861\n",
       "1                       1                        0                 771\n",
       "38                      1                        0                 639\n",
       "3                       1                        0                 234\n",
       "                                                                  ... \n",
       "27                      1                        0                   1\n",
       "29                      1                        0                   1\n",
       "31                      1                        0                   1\n",
       "33                      0                        0                   1\n",
       "44                      0                        0                   1\n",
       "Length: 69, dtype: int64"
      ]
     },
     "execution_count": 37,
     "metadata": {},
     "output_type": "execute_result"
    }
   ],
   "source": [
    "df123_cleaned[[\"Father's qualification\",\"Tuition fees up to date\", \"International\"]] = df123_cleaned[[\"Father's qualification\",\"Tuition fees up to date\", \"International\"]].astype(int)\n",
    "df123_cleaned[[\"Father's qualification\",\"Tuition fees up to date\", \"International\"]].value_counts()"
   ]
  },
  {
   "cell_type": "code",
   "execution_count": 38,
   "id": "3a7769f1",
   "metadata": {},
   "outputs": [
    {
     "name": "stdout",
     "output_type": "stream",
     "text": [
      "<class 'pandas.core.frame.DataFrame'>\n",
      "Int64Index: 4424 entries, 0 to 999\n",
      "Data columns (total 38 columns):\n",
      " #   Column                                          Non-Null Count  Dtype  \n",
      "---  ------                                          --------------  -----  \n",
      " 0   ID                                              4424 non-null   int64  \n",
      " 1   Marital status                                  4424 non-null   int64  \n",
      " 2   Application mode                                4424 non-null   int64  \n",
      " 3   Application order                               4424 non-null   int64  \n",
      " 4   Course                                          4424 non-null   int64  \n",
      " 5   Daytime/evening attendance                      4424 non-null   int64  \n",
      " 6   Previous qualification                          4424 non-null   int64  \n",
      " 7   Previous qualification (grade)                  4424 non-null   float64\n",
      " 8   Nationality                                     4424 non-null   int64  \n",
      " 9   Mother's qualification                          4424 non-null   int64  \n",
      " 10  Father's qualification                          4424 non-null   int64  \n",
      " 11  Mother's occupation                             4424 non-null   int64  \n",
      " 12  Father's occupation                             4424 non-null   int64  \n",
      " 13  Admission grade                                 4424 non-null   float64\n",
      " 14  Displaced                                       4424 non-null   int64  \n",
      " 15  Educational special needs                       4424 non-null   int64  \n",
      " 16  Debtor                                          4424 non-null   int64  \n",
      " 17  Tuition fees up to date                         4424 non-null   int64  \n",
      " 18  Gender                                          4424 non-null   int64  \n",
      " 19  Scholarship holder                              4424 non-null   int64  \n",
      " 20  Age at enrollment                               4424 non-null   int64  \n",
      " 21  International                                   4424 non-null   int64  \n",
      " 22  Curricular units 1st sem (credited)             4424 non-null   int64  \n",
      " 23  Curricular units 1st sem (enrolled)             4424 non-null   int64  \n",
      " 24  Curricular units 1st sem (evaluations)          4424 non-null   int64  \n",
      " 25  Curricular units 1st sem (approved)             4424 non-null   int64  \n",
      " 26  Curricular units 1st sem (grade)                4424 non-null   float64\n",
      " 27  Curricular units 1st sem (without evaluations)  4424 non-null   int64  \n",
      " 28  Curricular units 2nd sem (credited)             4424 non-null   int64  \n",
      " 29  Curricular units 2nd sem (enrolled)             4424 non-null   int64  \n",
      " 30  Curricular units 2nd sem (evaluations)          4424 non-null   int64  \n",
      " 31  Curricular units 2nd sem (approved)             4424 non-null   int64  \n",
      " 32  Curricular units 2nd sem (grade)                4424 non-null   float64\n",
      " 33  Curricular units 2nd sem (without evaluations)  4424 non-null   int64  \n",
      " 34  Unemployment rate                               4424 non-null   float64\n",
      " 35  Inflation rate                                  4424 non-null   float64\n",
      " 36  GDP                                             4424 non-null   float64\n",
      " 37  Target                                          4424 non-null   object \n",
      "dtypes: float64(7), int64(30), object(1)\n",
      "memory usage: 1.3+ MB\n"
     ]
    }
   ],
   "source": [
    "df123_cleaned.info()"
   ]
  },
  {
   "cell_type": "code",
   "execution_count": 39,
   "id": "27e8500e",
   "metadata": {},
   "outputs": [],
   "source": [
    "valid_ranges = {\n",
    "    \"ID\": (1,5000),\n",
    "    \"Marital status\": (1,6),\n",
    "    \"Application mode\": (1,60),\n",
    "    \"Application order\": (0,9),\n",
    "    \"Course\": (10,10000),\n",
    "    \"Daytime/evening attendance\": (0,1),                         \n",
    "    \"Previous qualification\": (1,45),                      \n",
    "    \"Previous qualification (grade)\": (95,190),\n",
    "    \"Nationality\": (1,109),\n",
    "    \"Mother's qualification\": (1,45),\n",
    "    \"Father's qualification\": (1,45),\n",
    "    \"Mother's occupation\": (0,200),\n",
    "    \"Father's occupation\": (0,200),\n",
    "    \"Admission grade\": (95,190),\n",
    "    \"Displaced\": (0,1),\n",
    "    \"Educational special needs\": (0,1),\n",
    "    \"Debtor\": (0,1),\n",
    "    \"Tuition fees up to date\": (0,1),\n",
    "    \"Gender\": (0,1),\n",
    "    \"Scholarship holder\": (0,1),\n",
    "    \"Age at enrollment\": (17,70),\n",
    "    \"International\": (0,1),\n",
    "    \"Curricular units 1st sem (credited)\": (0,50), \n",
    "    \"Curricular units 1st sem (enrolled)\": (0,50), \n",
    "    \"Curricular units 1st sem (evaluations)\": (0,50), \n",
    "    \"Curricular units 1st sem (approved)\": (0,50), \n",
    "    \"Curricular units 1st sem (grade)\": (0,20.00),\n",
    "    \"Curricular units 1st sem (without evaluations)\": (0,50), \n",
    "    \"Curricular units 2nd sem (credited)\": (0,50), \n",
    "    \"Curricular units 2nd sem (enrolled)\": (0,50), \n",
    "    \"Curricular units 2nd sem (evaluations)\": (0,50), \n",
    "    \"Curricular units 2nd sem (approved)\": (0,50),\n",
    "    \"Curricular units 1st sem (grade)\": (0,20.00),\n",
    "    \"Curricular units 1st sem (without evaluations)\": (0,12),\n",
    "    \"Unemployment rate\": (-100,100),\n",
    "    \"Inflation rate\": (-100,100),\n",
    "    \"GDP\": (-100,100)\n",
    "}"
   ]
  },
  {
   "cell_type": "code",
   "execution_count": 40,
   "id": "01d65949",
   "metadata": {},
   "outputs": [
    {
     "name": "stdout",
     "output_type": "stream",
     "text": [
      "Some values in Age at enrollment are outside the range.\n"
     ]
    }
   ],
   "source": [
    "for col, valid_range in valid_ranges.items():\n",
    "    if not df123_cleaned[col].between(*valid_range).all():\n",
    "        print(f\"Some values in {col} are outside the range.\")"
   ]
  },
  {
   "cell_type": "code",
   "execution_count": 41,
   "id": "0f279fa5",
   "metadata": {},
   "outputs": [
    {
     "data": {
      "text/plain": [
       "array([333,  70,  62,  61,  60,  59,  58,  57,  55,  54,  53,  52,  51,\n",
       "        50,  49,  48,  47,  46,  45,  44, 444,  43,  42,  41,  40,  39,\n",
       "        38,  37,  36,  35,  34,  33,  32,  31,  30,  29,  28,  27,  26,\n",
       "        25,  24,  23,  22, 222,  21,  20,  19,  18,  17])"
      ]
     },
     "execution_count": 41,
     "metadata": {},
     "output_type": "execute_result"
    }
   ],
   "source": [
    "df123_cleaned[\"Age at enrollment\"].unique()"
   ]
  },
  {
   "cell_type": "code",
   "execution_count": 42,
   "id": "b6c1a2ce",
   "metadata": {},
   "outputs": [
    {
     "data": {
      "text/plain": [
       "array([70, 62, 61, 60, 59, 58, 57, 55, 54, 53, 52, 51, 50, 49, 48, 47, 46,\n",
       "       45, 44, 43, 42, 41, 40, 39, 38, 37, 36, 35, 34, 33, 32, 31, 30, 29,\n",
       "       28, 27, 26, 25, 24, 23, 22, 21, 20, 19, 18, 17])"
      ]
     },
     "execution_count": 42,
     "metadata": {},
     "output_type": "execute_result"
    }
   ],
   "source": [
    "# replace values exceeding the max (70) with NaN\n",
    "df123_cleaned.loc[df123_cleaned['Age at enrollment'] > 70, 'Age at enrollment'] = pd.NA\n",
    "# replace NaN with the max value (70)\n",
    "df123_cleaned['Age at enrollment'].fillna(70, inplace=True)\n",
    "df123_cleaned[\"Age at enrollment\"].unique()"
   ]
  },
  {
   "cell_type": "code",
   "execution_count": 43,
   "id": "8c7f150e",
   "metadata": {},
   "outputs": [
    {
     "data": {
      "text/html": [
       "<div>\n",
       "<style scoped>\n",
       "    .dataframe tbody tr th:only-of-type {\n",
       "        vertical-align: middle;\n",
       "    }\n",
       "\n",
       "    .dataframe tbody tr th {\n",
       "        vertical-align: top;\n",
       "    }\n",
       "\n",
       "    .dataframe thead th {\n",
       "        text-align: right;\n",
       "    }\n",
       "</style>\n",
       "<table border=\"1\" class=\"dataframe\">\n",
       "  <thead>\n",
       "    <tr style=\"text-align: right;\">\n",
       "      <th></th>\n",
       "      <th>ID</th>\n",
       "      <th>Marital status</th>\n",
       "      <th>Application mode</th>\n",
       "      <th>Application order</th>\n",
       "      <th>Course</th>\n",
       "      <th>Daytime/evening attendance</th>\n",
       "      <th>Previous qualification</th>\n",
       "      <th>Previous qualification (grade)</th>\n",
       "      <th>Nationality</th>\n",
       "      <th>Mother's qualification</th>\n",
       "      <th>...</th>\n",
       "      <th>Curricular units 2nd sem (credited)</th>\n",
       "      <th>Curricular units 2nd sem (enrolled)</th>\n",
       "      <th>Curricular units 2nd sem (evaluations)</th>\n",
       "      <th>Curricular units 2nd sem (approved)</th>\n",
       "      <th>Curricular units 2nd sem (grade)</th>\n",
       "      <th>Curricular units 2nd sem (without evaluations)</th>\n",
       "      <th>Unemployment rate</th>\n",
       "      <th>Inflation rate</th>\n",
       "      <th>GDP</th>\n",
       "      <th>Target</th>\n",
       "    </tr>\n",
       "  </thead>\n",
       "  <tbody>\n",
       "    <tr>\n",
       "      <th>0</th>\n",
       "      <td>2541</td>\n",
       "      <td>1</td>\n",
       "      <td>7</td>\n",
       "      <td>1</td>\n",
       "      <td>9147</td>\n",
       "      <td>1</td>\n",
       "      <td>3</td>\n",
       "      <td>120.0</td>\n",
       "      <td>1</td>\n",
       "      <td>1</td>\n",
       "      <td>...</td>\n",
       "      <td>0</td>\n",
       "      <td>5</td>\n",
       "      <td>5</td>\n",
       "      <td>0</td>\n",
       "      <td>0.000000</td>\n",
       "      <td>0</td>\n",
       "      <td>12.4</td>\n",
       "      <td>0.5</td>\n",
       "      <td>1.79</td>\n",
       "      <td>Dropout</td>\n",
       "    </tr>\n",
       "    <tr>\n",
       "      <th>1</th>\n",
       "      <td>2554</td>\n",
       "      <td>1</td>\n",
       "      <td>17</td>\n",
       "      <td>1</td>\n",
       "      <td>9991</td>\n",
       "      <td>0</td>\n",
       "      <td>1</td>\n",
       "      <td>160.0</td>\n",
       "      <td>1</td>\n",
       "      <td>34</td>\n",
       "      <td>...</td>\n",
       "      <td>0</td>\n",
       "      <td>5</td>\n",
       "      <td>5</td>\n",
       "      <td>0</td>\n",
       "      <td>0.000000</td>\n",
       "      <td>0</td>\n",
       "      <td>7.6</td>\n",
       "      <td>2.6</td>\n",
       "      <td>0.32</td>\n",
       "      <td>Dropout</td>\n",
       "    </tr>\n",
       "    <tr>\n",
       "      <th>2</th>\n",
       "      <td>2790</td>\n",
       "      <td>1</td>\n",
       "      <td>39</td>\n",
       "      <td>1</td>\n",
       "      <td>171</td>\n",
       "      <td>1</td>\n",
       "      <td>1</td>\n",
       "      <td>133.1</td>\n",
       "      <td>1</td>\n",
       "      <td>37</td>\n",
       "      <td>...</td>\n",
       "      <td>0</td>\n",
       "      <td>0</td>\n",
       "      <td>0</td>\n",
       "      <td>0</td>\n",
       "      <td>0.000000</td>\n",
       "      <td>0</td>\n",
       "      <td>15.5</td>\n",
       "      <td>2.8</td>\n",
       "      <td>-4.06</td>\n",
       "      <td>Dropout</td>\n",
       "    </tr>\n",
       "    <tr>\n",
       "      <th>3</th>\n",
       "      <td>2799</td>\n",
       "      <td>1</td>\n",
       "      <td>42</td>\n",
       "      <td>1</td>\n",
       "      <td>9500</td>\n",
       "      <td>1</td>\n",
       "      <td>1</td>\n",
       "      <td>150.0</td>\n",
       "      <td>1</td>\n",
       "      <td>19</td>\n",
       "      <td>...</td>\n",
       "      <td>6</td>\n",
       "      <td>14</td>\n",
       "      <td>20</td>\n",
       "      <td>14</td>\n",
       "      <td>13.072857</td>\n",
       "      <td>6</td>\n",
       "      <td>9.4</td>\n",
       "      <td>-0.8</td>\n",
       "      <td>-3.12</td>\n",
       "      <td>Graduate</td>\n",
       "    </tr>\n",
       "    <tr>\n",
       "      <th>4</th>\n",
       "      <td>2883</td>\n",
       "      <td>2</td>\n",
       "      <td>39</td>\n",
       "      <td>1</td>\n",
       "      <td>9991</td>\n",
       "      <td>0</td>\n",
       "      <td>1</td>\n",
       "      <td>133.1</td>\n",
       "      <td>1</td>\n",
       "      <td>37</td>\n",
       "      <td>...</td>\n",
       "      <td>0</td>\n",
       "      <td>5</td>\n",
       "      <td>13</td>\n",
       "      <td>2</td>\n",
       "      <td>12.000000</td>\n",
       "      <td>0</td>\n",
       "      <td>12.4</td>\n",
       "      <td>0.5</td>\n",
       "      <td>1.79</td>\n",
       "      <td>Dropout</td>\n",
       "    </tr>\n",
       "  </tbody>\n",
       "</table>\n",
       "<p>5 rows × 38 columns</p>\n",
       "</div>"
      ],
      "text/plain": [
       "     ID  Marital status  Application mode  Application order  Course  \\\n",
       "0  2541               1                 7                  1    9147   \n",
       "1  2554               1                17                  1    9991   \n",
       "2  2790               1                39                  1     171   \n",
       "3  2799               1                42                  1    9500   \n",
       "4  2883               2                39                  1    9991   \n",
       "\n",
       "   Daytime/evening attendance  Previous qualification  \\\n",
       "0                           1                       3   \n",
       "1                           0                       1   \n",
       "2                           1                       1   \n",
       "3                           1                       1   \n",
       "4                           0                       1   \n",
       "\n",
       "   Previous qualification (grade)  Nationality  Mother's qualification  ...  \\\n",
       "0                           120.0            1                       1  ...   \n",
       "1                           160.0            1                      34  ...   \n",
       "2                           133.1            1                      37  ...   \n",
       "3                           150.0            1                      19  ...   \n",
       "4                           133.1            1                      37  ...   \n",
       "\n",
       "   Curricular units 2nd sem (credited)  Curricular units 2nd sem (enrolled)  \\\n",
       "0                                    0                                    5   \n",
       "1                                    0                                    5   \n",
       "2                                    0                                    0   \n",
       "3                                    6                                   14   \n",
       "4                                    0                                    5   \n",
       "\n",
       "   Curricular units 2nd sem (evaluations)  \\\n",
       "0                                       5   \n",
       "1                                       5   \n",
       "2                                       0   \n",
       "3                                      20   \n",
       "4                                      13   \n",
       "\n",
       "   Curricular units 2nd sem (approved)  Curricular units 2nd sem (grade)  \\\n",
       "0                                    0                          0.000000   \n",
       "1                                    0                          0.000000   \n",
       "2                                    0                          0.000000   \n",
       "3                                   14                         13.072857   \n",
       "4                                    2                         12.000000   \n",
       "\n",
       "   Curricular units 2nd sem (without evaluations)  Unemployment rate  \\\n",
       "0                                               0               12.4   \n",
       "1                                               0                7.6   \n",
       "2                                               0               15.5   \n",
       "3                                               6                9.4   \n",
       "4                                               0               12.4   \n",
       "\n",
       "   Inflation rate   GDP    Target  \n",
       "0             0.5  1.79   Dropout  \n",
       "1             2.6  0.32   Dropout  \n",
       "2             2.8 -4.06   Dropout  \n",
       "3            -0.8 -3.12  Graduate  \n",
       "4             0.5  1.79   Dropout  \n",
       "\n",
       "[5 rows x 38 columns]"
      ]
     },
     "execution_count": 43,
     "metadata": {},
     "output_type": "execute_result"
    }
   ],
   "source": [
    "df123_cleaned.head()"
   ]
  },
  {
   "cell_type": "code",
   "execution_count": 44,
   "id": "61748772",
   "metadata": {},
   "outputs": [
    {
     "name": "stdout",
     "output_type": "stream",
     "text": [
      "<class 'pandas.core.frame.DataFrame'>\n",
      "Int64Index: 4424 entries, 0 to 999\n",
      "Data columns (total 38 columns):\n",
      " #   Column                                          Non-Null Count  Dtype  \n",
      "---  ------                                          --------------  -----  \n",
      " 0   ID                                              4424 non-null   int64  \n",
      " 1   Marital status                                  4424 non-null   int64  \n",
      " 2   Application mode                                4424 non-null   int64  \n",
      " 3   Application order                               4424 non-null   int64  \n",
      " 4   Course                                          4424 non-null   int64  \n",
      " 5   Daytime/evening attendance                      4424 non-null   int64  \n",
      " 6   Previous qualification                          4424 non-null   int64  \n",
      " 7   Previous qualification (grade)                  4424 non-null   float64\n",
      " 8   Nationality                                     4424 non-null   int64  \n",
      " 9   Mother's qualification                          4424 non-null   int64  \n",
      " 10  Father's qualification                          4424 non-null   int64  \n",
      " 11  Mother's occupation                             4424 non-null   int64  \n",
      " 12  Father's occupation                             4424 non-null   int64  \n",
      " 13  Admission grade                                 4424 non-null   float64\n",
      " 14  Displaced                                       4424 non-null   int64  \n",
      " 15  Educational special needs                       4424 non-null   int64  \n",
      " 16  Debtor                                          4424 non-null   int64  \n",
      " 17  Tuition fees up to date                         4424 non-null   int64  \n",
      " 18  Gender                                          4424 non-null   int64  \n",
      " 19  Scholarship holder                              4424 non-null   int64  \n",
      " 20  Age at enrollment                               4424 non-null   int64  \n",
      " 21  International                                   4424 non-null   int64  \n",
      " 22  Curricular units 1st sem (credited)             4424 non-null   int64  \n",
      " 23  Curricular units 1st sem (enrolled)             4424 non-null   int64  \n",
      " 24  Curricular units 1st sem (evaluations)          4424 non-null   int64  \n",
      " 25  Curricular units 1st sem (approved)             4424 non-null   int64  \n",
      " 26  Curricular units 1st sem (grade)                4424 non-null   float64\n",
      " 27  Curricular units 1st sem (without evaluations)  4424 non-null   int64  \n",
      " 28  Curricular units 2nd sem (credited)             4424 non-null   int64  \n",
      " 29  Curricular units 2nd sem (enrolled)             4424 non-null   int64  \n",
      " 30  Curricular units 2nd sem (evaluations)          4424 non-null   int64  \n",
      " 31  Curricular units 2nd sem (approved)             4424 non-null   int64  \n",
      " 32  Curricular units 2nd sem (grade)                4424 non-null   float64\n",
      " 33  Curricular units 2nd sem (without evaluations)  4424 non-null   int64  \n",
      " 34  Unemployment rate                               4424 non-null   float64\n",
      " 35  Inflation rate                                  4424 non-null   float64\n",
      " 36  GDP                                             4424 non-null   float64\n",
      " 37  Target                                          4424 non-null   object \n",
      "dtypes: float64(7), int64(30), object(1)\n",
      "memory usage: 1.3+ MB\n"
     ]
    }
   ],
   "source": [
    "df123_cleaned.info()"
   ]
  },
  {
   "cell_type": "markdown",
   "id": "6e78d762",
   "metadata": {},
   "source": [
    "## Step 2 - Data Exploration"
   ]
  },
  {
   "cell_type": "markdown",
   "id": "67829f30",
   "metadata": {},
   "source": [
    "### Choose one column each with categorical and numerical values, respectively and visualise that"
   ]
  },
  {
   "cell_type": "code",
   "execution_count": 45,
   "id": "51d88b71",
   "metadata": {},
   "outputs": [
    {
     "name": "stdout",
     "output_type": "stream",
     "text": [
      "Missing values: 0\n"
     ]
    }
   ],
   "source": [
    "# I choose the 'Admission grade' column as a numerical column\n",
    "num_column = 'Admission grade'\n",
    "# Check for missing values\n",
    "print('Missing values:', df123_cleaned[num_column].isnull().sum())"
   ]
  },
  {
   "cell_type": "code",
   "execution_count": 46,
   "id": "46441fb9",
   "metadata": {},
   "outputs": [
    {
     "data": {
      "image/png": "[encoded data removed]",
      "text/plain": [
       "<Figure size 640x480 with 1 Axes>"
      ]
     },
     "metadata": {},
     "output_type": "display_data"
    }
   ],
   "source": [
    "# Plot a histogram of the column\n",
    "plt.hist(df123_cleaned[num_column], bins=20)\n",
    "plt.title(num_column)\n",
    "plt.xlabel('Grade')\n",
    "plt.ylabel('Count')\n",
    "plt.show()"
   ]
  },
  {
   "cell_type": "code",
   "execution_count": 47,
   "id": "ba88c49e",
   "metadata": {},
   "outputs": [
    {
     "name": "stdout",
     "output_type": "stream",
     "text": [
      "Mean: 126.97811934900528\n",
      "Median: 126.1\n",
      "Standard deviation: 14.48200081884951\n"
     ]
    }
   ],
   "source": [
    "# Calculate some summary statistics\n",
    "print('Mean:', df123_cleaned[num_column].mean())\n",
    "print('Median:', df123_cleaned[num_column].median())\n",
    "print('Standard deviation:', df123_cleaned[num_column].std())"
   ]
  },
  {
   "cell_type": "code",
   "execution_count": 48,
   "id": "92ee8f26",
   "metadata": {},
   "outputs": [
    {
     "name": "stdout",
     "output_type": "stream",
     "text": [
      "Missing values: 0\n"
     ]
    }
   ],
   "source": [
    "# I choose the 'Scholarship holder' column as a categorical column\n",
    "cat_column = 'Scholarship holder'\n",
    "# Check for missing values\n",
    "print('Missing values:', df123_cleaned[cat_column].isnull().sum())"
   ]
  },
  {
   "cell_type": "code",
   "execution_count": 49,
   "id": "11d75261",
   "metadata": {},
   "outputs": [],
   "source": [
    "# count the number of students with and without scholarship\n",
    "scholarship_counts = df123_cleaned['Scholarship holder'].value_counts()"
   ]
  },
  {
   "cell_type": "code",
   "execution_count": 50,
   "id": "833764bf",
   "metadata": {},
   "outputs": [
    {
     "data": {
      "text/plain": [
       "([<matplotlib.axis.XTick at 0x7f7cb39495b0>,\n",
       "  <matplotlib.axis.XTick at 0x7f7cb3949580>],\n",
       " [Text(0, 0, 'No'), Text(1, 0, 'Yes')])"
      ]
     },
     "execution_count": 50,
     "metadata": {},
     "output_type": "execute_result"
    },
    {
     "data": {
      "image/png": "[encoded data removed]",
      "text/plain": [
       "<Figure size 640x480 with 1 Axes>"
      ]
     },
     "metadata": {},
     "output_type": "display_data"
    }
   ],
   "source": [
    "scholarship_counts.plot(kind='bar', title='Number of Students with Scholarship')\n",
    "# Set the x-axis and y-axis labels\n",
    "plt.xlabel('Scholarship Holder')\n",
    "plt.ylabel('Count')\n",
    "plt.xticks([0, 1], ['No', 'Yes'], rotation=0)"
   ]
  },
  {
   "cell_type": "markdown",
   "id": "00421a74",
   "metadata": {},
   "source": [
    "### Choose three pairs of columns and explore the relationships"
   ]
  },
  {
   "cell_type": "markdown",
   "id": "2a67e254",
   "metadata": {},
   "source": [
    "#### Pair 1: Gender and Scholarship holder"
   ]
  },
  {
   "cell_type": "code",
   "execution_count": 51,
   "id": "6b4e3520",
   "metadata": {},
   "outputs": [
    {
     "data": {
      "text/html": [
       "<div>\n",
       "<style scoped>\n",
       "    .dataframe tbody tr th:only-of-type {\n",
       "        vertical-align: middle;\n",
       "    }\n",
       "\n",
       "    .dataframe tbody tr th {\n",
       "        vertical-align: top;\n",
       "    }\n",
       "\n",
       "    .dataframe thead tr th {\n",
       "        text-align: left;\n",
       "    }\n",
       "\n",
       "    .dataframe thead tr:last-of-type th {\n",
       "        text-align: right;\n",
       "    }\n",
       "</style>\n",
       "<table border=\"1\" class=\"dataframe\">\n",
       "  <thead>\n",
       "    <tr>\n",
       "      <th></th>\n",
       "      <th colspan=\"8\" halign=\"left\">Scholarship holder</th>\n",
       "    </tr>\n",
       "    <tr>\n",
       "      <th></th>\n",
       "      <th>count</th>\n",
       "      <th>mean</th>\n",
       "      <th>std</th>\n",
       "      <th>min</th>\n",
       "      <th>25%</th>\n",
       "      <th>50%</th>\n",
       "      <th>75%</th>\n",
       "      <th>max</th>\n",
       "    </tr>\n",
       "    <tr>\n",
       "      <th>Gender</th>\n",
       "      <th></th>\n",
       "      <th></th>\n",
       "      <th></th>\n",
       "      <th></th>\n",
       "      <th></th>\n",
       "      <th></th>\n",
       "      <th></th>\n",
       "      <th></th>\n",
       "    </tr>\n",
       "  </thead>\n",
       "  <tbody>\n",
       "    <tr>\n",
       "      <th>0</th>\n",
       "      <td>2868.0</td>\n",
       "      <td>0.302301</td>\n",
       "      <td>0.459335</td>\n",
       "      <td>0.0</td>\n",
       "      <td>0.0</td>\n",
       "      <td>0.0</td>\n",
       "      <td>1.0</td>\n",
       "      <td>1.0</td>\n",
       "    </tr>\n",
       "    <tr>\n",
       "      <th>1</th>\n",
       "      <td>1556.0</td>\n",
       "      <td>0.149100</td>\n",
       "      <td>0.356302</td>\n",
       "      <td>0.0</td>\n",
       "      <td>0.0</td>\n",
       "      <td>0.0</td>\n",
       "      <td>0.0</td>\n",
       "      <td>1.0</td>\n",
       "    </tr>\n",
       "  </tbody>\n",
       "</table>\n",
       "</div>"
      ],
      "text/plain": [
       "       Scholarship holder                                             \n",
       "                    count      mean       std  min  25%  50%  75%  max\n",
       "Gender                                                                \n",
       "0                  2868.0  0.302301  0.459335  0.0  0.0  0.0  1.0  1.0\n",
       "1                  1556.0  0.149100  0.356302  0.0  0.0  0.0  0.0  1.0"
      ]
     },
     "execution_count": 51,
     "metadata": {},
     "output_type": "execute_result"
    }
   ],
   "source": [
    "# Descriptive statistics\n",
    "df123_cleaned[['Gender', 'Scholarship holder']].groupby('Gender').describe()"
   ]
  },
  {
   "cell_type": "code",
   "execution_count": 52,
   "id": "e472a717",
   "metadata": {},
   "outputs": [
    {
     "data": {
      "image/png": "[encoded data removed]",
      "text/plain": [
       "<Figure size 640x480 with 1 Axes>"
      ]
     },
     "metadata": {},
     "output_type": "display_data"
    }
   ],
   "source": [
    "# Create a unstacked bar chart\n",
    "gender_scholarship = df123_cleaned[['Gender', 'Scholarship holder']].groupby(['Gender', 'Scholarship holder']).size().unstack()\n",
    "gender_scholarship.plot(kind='bar')\n",
    "plt.title('Relationship between Gender and Scholarship Holder')\n",
    "plt.xlabel('Gender')\n",
    "plt.ylabel('Count')\n",
    "plt.xticks(rotation=0)\n",
    "plt.show()"
   ]
  },
  {
   "cell_type": "markdown",
   "id": "d6757856",
   "metadata": {},
   "source": [
    "#### Pair 2: "
   ]
  },
  {
   "cell_type": "code",
   "execution_count": 53,
   "id": "0af6fcd6",
   "metadata": {
    "scrolled": true
   },
   "outputs": [
    {
     "data": {
      "image/png": "[encoded data removed]",
      "text/plain": [
       "<Figure size 640x480 with 1 Axes>"
      ]
     },
     "metadata": {},
     "output_type": "display_data"
    }
   ],
   "source": [
    "# create contingency table\n",
    "cont_table = pd.crosstab(df123_cleaned['Tuition fees up to date'], df123_cleaned['Debtor'])\n",
    "\n",
    "# create stacked bar chart\n",
    "cont_table.plot(kind='bar')\n",
    "plt.xlabel('Tuition fees up to date')\n",
    "plt.ylabel('Proportion')\n",
    "plt.title('Proportion of debtors by tuition fees payment')\n",
    "plt.xticks(rotation=0)\n",
    "plt.show()"
   ]
  },
  {
   "cell_type": "code",
   "execution_count": 54,
   "id": "880988d9",
   "metadata": {},
   "outputs": [
    {
     "data": {
      "text/plain": [
       "count    4424.000000\n",
       "mean       22.279385\n",
       "std        15.344626\n",
       "min         1.000000\n",
       "25%         3.000000\n",
       "50%        19.000000\n",
       "75%        37.000000\n",
       "max        44.000000\n",
       "Name: Father's qualification, dtype: float64"
      ]
     },
     "execution_count": 54,
     "metadata": {},
     "output_type": "execute_result"
    }
   ],
   "source": [
    "# Descriptive statistics\n",
    "father_qual = df123_cleaned[\"Father's qualification\"]\n",
    "father_qual.describe()\n"
   ]
  },
  {
   "cell_type": "code",
   "execution_count": 55,
   "id": "080c6903",
   "metadata": {},
   "outputs": [
    {
     "data": {
      "text/plain": [
       "count    4424.000000\n",
       "mean       19.561935\n",
       "std        15.603186\n",
       "min         1.000000\n",
       "25%         2.000000\n",
       "50%        19.000000\n",
       "75%        37.000000\n",
       "max        44.000000\n",
       "Name: Mother's qualification, dtype: float64"
      ]
     },
     "execution_count": 55,
     "metadata": {},
     "output_type": "execute_result"
    }
   ],
   "source": [
    "mother_qual = df123_cleaned[\"Mother's qualification\"]\n",
    "mother_qual.describe()"
   ]
  },
  {
   "cell_type": "code",
   "execution_count": 56,
   "id": "647ce484",
   "metadata": {},
   "outputs": [
    {
     "data": {
      "image/png": "[encoded data removed]",
      "text/plain": [
       "<Figure size 640x480 with 1 Axes>"
      ]
     },
     "metadata": {},
     "output_type": "display_data"
    }
   ],
   "source": [
    "plt.scatter(x=father_qual, y=mother_qual)\n",
    "plt.xlabel(\"Father's qualification\")\n",
    "plt.ylabel(\"Mother's qualification\")\n",
    "plt.show()"
   ]
  },
  {
   "cell_type": "code",
   "execution_count": 57,
   "id": "197349f4",
   "metadata": {},
   "outputs": [
    {
     "data": {
      "text/plain": [
       "<AxesSubplot:title={'center':'Total Number of Survivors Based on Class'}, xlabel=\"Father's qualification\">"
      ]
     },
     "execution_count": 57,
     "metadata": {},
     "output_type": "execute_result"
    },
    {
     "data": {
      "image/png": "[encoded data removed]",
      "text/plain": [
       "<Figure size 640x480 with 1 Axes>"
      ]
     },
     "metadata": {},
     "output_type": "display_data"
    }
   ],
   "source": [
    "gp=df123_cleaned.groupby([\"Father's qualification\"])[\"Father's qualification\"]\n",
    "gpSNum=gp.sum()\n",
    "gpSNum.plot(kind='bar', title='Total Number of Survivors Based on Class')"
   ]
  },
  {
   "cell_type": "code",
   "execution_count": 58,
   "id": "821d30a8",
   "metadata": {},
   "outputs": [
    {
     "name": "stdout",
     "output_type": "stream",
     "text": [
      "Admission grade:\n",
      " count    4424.000000\n",
      "mean      126.978119\n",
      "std        14.482001\n",
      "min        95.000000\n",
      "25%       117.900000\n",
      "50%       126.100000\n",
      "75%       134.800000\n",
      "max       190.000000\n",
      "Name: Admission grade, dtype: float64\n",
      "\n",
      "Curricular units 1st sem (grade):\n",
      " count    4424.000000\n",
      "mean       10.640822\n",
      "std         4.843663\n",
      "min         0.000000\n",
      "25%        11.000000\n",
      "50%        12.285714\n",
      "75%        13.400000\n",
      "max        18.875000\n",
      "Name: Curricular units 1st sem (grade), dtype: float64\n"
     ]
    }
   ],
   "source": [
    "# Extract the columns of interest\n",
    "admission_grade = df123_cleaned[\"Admission grade\"]\n",
    "curricular_units_1st_sem_grade = df123_cleaned[\"Curricular units 1st sem (grade)\"]\n",
    "\n",
    "# Compute basic descriptive statistics\n",
    "print(\"Admission grade:\\n\", admission_grade.describe())\n",
    "print(\"\\nCurricular units 1st sem (grade):\\n\", curricular_units_1st_sem_grade.describe())"
   ]
  },
  {
   "cell_type": "code",
   "execution_count": 59,
   "id": "7ae14384",
   "metadata": {},
   "outputs": [
    {
     "data": {
      "image/png": "[encoded data removed]",
      "text/plain": [
       "<Figure size 640x480 with 2 Axes>"
      ]
     },
     "metadata": {},
     "output_type": "display_data"
    }
   ],
   "source": [
    "plt.hexbin(df123_cleaned[\"Admission grade\"], df123_cleaned[\"Curricular units 1st sem (grade)\"], gridsize=30, cmap=\"Blues\")\n",
    "plt.xlabel(\"Admission grade\")\n",
    "plt.ylabel(\"Curricular units 1st sem (grade)\")\n",
    "plt.title(\"Admission Grade vs Curricular Units 1st Sem Grade\")\n",
    "plt.colorbar()\n",
    "plt.show()"
   ]
  },
  {
   "cell_type": "code",
   "execution_count": 60,
   "id": "1d17bfc3",
   "metadata": {},
   "outputs": [
    {
     "data": {
      "image/png": "[encoded data removed]",
      "text/plain": [
       "<Figure size 640x480 with 1 Axes>"
      ]
     },
     "metadata": {},
     "output_type": "display_data"
    }
   ],
   "source": [
    "# Group the data by previous qualification and calculate the mean admission grade\n",
    "qual_grouped = df123_cleaned.groupby(\"Previous qualification\")[\"Admission grade\"].mean()\n",
    "\n",
    "# Create a bar chart showing the mean admission grade for each level of previous qualification\n",
    "plt.bar(qual_grouped.index, qual_grouped.values)\n",
    "plt.xlabel(\"Previous qualification\")\n",
    "plt.ylabel(\"Mean admission grade\")\n",
    "plt.show()"
   ]
  },
  {
   "cell_type": "code",
   "execution_count": 61,
   "id": "54094bde",
   "metadata": {},
   "outputs": [],
   "source": [
    "df123_cleaned.to_excel(\"data.xlsx\")"
   ]
  },
  {
   "cell_type": "code",
   "execution_count": null,
   "id": "3d0faf23",
   "metadata": {},
   "outputs": [],
   "source": []
  }
 ],
 "metadata": {
  "kernelspec": {
   "display_name": "Python 3 (ipykernel)",
   "language": "python",
   "name": "python3"
  },
  "language_info": {
   "codemirror_mode": {
    "name": "ipython",
    "version": 3
   },
   "file_extension": ".py",
   "mimetype": "text/x-python",
   "name": "python",
   "nbconvert_exporter": "python",
   "pygments_lexer": "ipython3",
   "version": "3.9.13"
  }
 },
 "nbformat": 4,
 "nbformat_minor": 5
}
